{
 "cells": [
  {
   "cell_type": "markdown",
   "metadata": {},
   "source": [
    "- Ignacio David Vázquez Pérez\n",
    "- 218292866\n",
    "- (2022B) Sem. de Sol. de Problemas de Inteligencia Artificial II\n",
    "- D05 (2022B)"
   ]
  },
  {
   "cell_type": "code",
   "execution_count": 1,
   "metadata": {},
   "outputs": [],
   "source": [
    "import numpy as np\n",
    "import random\n",
    "import numpy as np\n",
    "import pandas as pd\n",
    "from mpl_toolkits.mplot3d import Axes3D  \n",
    "import matplotlib.pyplot as plt\n",
    "from sklearn.preprocessing import StandardScaler\n",
    "from sklearn.model_selection import train_test_split\n",
    "import seaborn as sns; sns.set()\n",
    "from sklearn import metrics \n",
    "from sklearn.model_selection import KFold # import KFold\n",
    "from sklearn.model_selection import LeaveOneOut\n",
    "from sklearn.preprocessing import LabelEncoder\n",
    "from sklearn.model_selection import LeavePOut\n",
    "from sklearn.decomposition import PCA\n",
    "import seaborn as sns\n",
    "from sklearn.neural_network import MLPClassifier\n",
    "import warnings\n",
    "warnings.filterwarnings('ignore')\n",
    "from sklearn.metrics import accuracy_score\n",
    "from sklearn.metrics import classification_report\n",
    "from sklearn.metrics import plot_confusion_matrix\n",
    "from sklearn.metrics import multilabel_confusion_matrix\n",
    "# from mlxtend.evaluate import confusion_matrix\n",
    "from sklearn.model_selection import cross_validate\n",
    "from sklearn.model_selection import cross_val_score\n",
    "from sklearn.metrics import multilabel_confusion_matrix"
   ]
  },
  {
   "cell_type": "code",
   "execution_count": 2,
   "metadata": {},
   "outputs": [],
   "source": [
    "def MLP_binary_classification_2d(X,Y,net):\n",
    "    plt.figure()\n",
    "    for i in range(X.shape[1]):\n",
    "        if Y[0,i]==0:\n",
    "            plt.plot(X[0,i], X[1,i], '.r')\n",
    "        else:\n",
    "            plt.plot(X[0,i], X[1,i], '.b')\n",
    "    xmin, ymin=np.min(X[0,:])-0.5, np.min(X[1,:])-0.5\n",
    "    xmax, ymax=np.max(X[0,:])+0.5, np.max(X[1,:])+0.5\n",
    "    xx, yy = np.meshgrid(np.linspace(xmin,xmax, 100), \n",
    "                         np.linspace(ymin,ymax, 100))\n",
    "    data = [xx.ravel(), yy.ravel()]\n",
    "    zz = net.predict(data)\n",
    "    zz = zz.reshape(xx.shape)\n",
    "    plt.contourf(xx,yy,zz, alpha=0.8, \n",
    "                 cmap=plt.cm.RdBu)\n",
    "    plt.xlim([xmin,xmax])\n",
    "    plt.ylim([ymin,ymax])\n",
    "    plt.grid()\n",
    "    plt.show()\n",
    "    "
   ]
  },
  {
   "cell_type": "markdown",
   "metadata": {},
   "source": [
    "# Ejercicio 1_4"
   ]
  },
  {
   "cell_type": "markdown",
   "metadata": {},
   "source": [
    "Iris es el género de una planta herbácea con flores que se utilizan en decoración. Dentro\n",
    "de este género existen muy diversas especies entre las que se han estudiado la Iris setosa, la Iris versicolor y la Iris virginica.\n",
    "\n",
    "Las tres especies se pueden diferenciar en base a las dimensiones de sus pétalos y sépalos. Se ha\n",
    "recopilado la información de 50 plantas de cada especie y se han almacenado en el archivo irisbin.csv.\n",
    "Dichas mediciones están en centímetros junto con un código binario que indica la especie a la que\n",
    "pertenece [-1, -1, 1] = setosa, [-1, 1, -1] = versicolor, [1, -1, -1] = virginica, se muestra la distribución de los datos contenidos en el archivo. Se debe crear un programa capaz de clasificar\n",
    "automáticamente los datos de 150 patrones usando un perceptrón multicapa. Es recomendable\n",
    "considerar 80% de los datos para entrenamiento y 20% para generalización.\n",
    "\n",
    "Con la estructura optima de la red, se deben validar los resultados usando lo métodos leave-k-out y leave-one-out con un perceptrón multicapa como clasificador. Se debe estimar el error esperado de clasificación, el promedio y la desviación estándar de ambos métodos."
   ]
  },
  {
   "cell_type": "markdown",
   "metadata": {},
   "source": [
    "## Dataset"
   ]
  },
  {
   "cell_type": "code",
   "execution_count": 49,
   "metadata": {},
   "outputs": [],
   "source": [
    "irisbin_dataset = np.genfromtxt('irisbin.csv', delimiter=',')"
   ]
  },
  {
   "cell_type": "code",
   "execution_count": 50,
   "metadata": {},
   "outputs": [],
   "source": [
    "X = irisbin_dataset[:,0:4]\n",
    "y = irisbin_dataset[:,4:]"
   ]
  },
  {
   "cell_type": "code",
   "execution_count": 51,
   "metadata": {},
   "outputs": [],
   "source": [
    "df_tmp = pd.DataFrame(y, columns = ['class1','class2','class3'])\n",
    "df_tmp['merge'] = df_tmp[df_tmp.columns[1:]].apply(\n",
    "    lambda x: ','.join(x.dropna().astype(str)),\n",
    "    axis=1\n",
    ")\n",
    "yle = LabelEncoder()\n",
    "df_tmp['merge'] = yle.fit_transform(df_tmp['merge'])\n",
    "y = df_tmp['merge'].values"
   ]
  },
  {
   "cell_type": "code",
   "execution_count": 52,
   "metadata": {},
   "outputs": [
    {
     "data": {
      "text/plain": [
       "(150, 4)"
      ]
     },
     "execution_count": 52,
     "metadata": {},
     "output_type": "execute_result"
    }
   ],
   "source": [
    "X.shape"
   ]
  },
  {
   "cell_type": "code",
   "execution_count": 53,
   "metadata": {},
   "outputs": [
    {
     "data": {
      "text/plain": [
       "(150,)"
      ]
     },
     "execution_count": 53,
     "metadata": {},
     "output_type": "execute_result"
    }
   ],
   "source": [
    "y.shape"
   ]
  },
  {
   "cell_type": "code",
   "execution_count": 54,
   "metadata": {},
   "outputs": [
    {
     "data": {
      "text/plain": [
       "array([[4.5, 2.3, 1.3, 0.3],\n",
       "       [5.1, 3.3, 1.7, 0.5],\n",
       "       [7.2, 3. , 5.8, 1.6],\n",
       "       [5.5, 4.2, 1.4, 0.2],\n",
       "       [6.7, 3.1, 4.7, 1.5],\n",
       "       [6.4, 3.1, 5.5, 1.8],\n",
       "       [6.1, 3. , 4.9, 1.8],\n",
       "       [5.2, 3.4, 1.4, 0.2],\n",
       "       [5. , 3.3, 1.4, 0.2],\n",
       "       [6.7, 3.3, 5.7, 2.1]])"
      ]
     },
     "execution_count": 54,
     "metadata": {},
     "output_type": "execute_result"
    }
   ],
   "source": [
    "X[:10,:]"
   ]
  },
  {
   "cell_type": "markdown",
   "metadata": {},
   "source": [
    "### Se normalizan los datos"
   ]
  },
  {
   "cell_type": "code",
   "execution_count": 55,
   "metadata": {},
   "outputs": [
    {
     "data": {
      "text/plain": [
       "array([[-1.62292232, -1.73079506, -1.20477011, -1.05115083],\n",
       "       [-0.84474966,  0.35450019, -0.98743335, -0.78704258],\n",
       "       [ 1.87885466, -0.27108838,  1.24026844,  0.66555279],\n",
       "       [-0.32596788,  2.23126592, -1.15043592, -1.18320495],\n",
       "       [ 1.23037744, -0.06255886,  0.64259235,  0.53349866],\n",
       "       [ 0.84129111, -0.06255886,  1.07726587,  0.92966103],\n",
       "       [ 0.45220478, -0.27108838,  0.75126073,  0.92966103],\n",
       "       [-0.71505421,  0.56302972, -1.15043592, -1.18320495],\n",
       "       [-0.9744451 ,  0.35450019, -1.15043592, -1.18320495],\n",
       "       [ 1.23037744,  0.35450019,  1.18593425,  1.32582341]])"
      ]
     },
     "execution_count": 55,
     "metadata": {},
     "output_type": "execute_result"
    }
   ],
   "source": [
    "scaler = StandardScaler()\n",
    "scaler.fit(X)\n",
    "X_scaler = scaler.transform(X)\n",
    "X_scaler[:10,:]"
   ]
  },
  {
   "cell_type": "markdown",
   "metadata": {},
   "source": [
    "### Se realiza la técnica de reducción de dimensionalidad a 2 componentes"
   ]
  },
  {
   "cell_type": "code",
   "execution_count": 56,
   "metadata": {},
   "outputs": [
    {
     "data": {
      "text/plain": [
       "array([[-1.66269754,  2.3014299 ],\n",
       "       [-1.5522715 ,  0.08128878],\n",
       "       [ 2.13274282, -0.6149128 ],\n",
       "       [-2.1176468 , -1.82020295],\n",
       "       [ 1.32239143, -0.50675546],\n",
       "       [ 1.60591768, -0.34473107],\n",
       "       [ 1.27417771,  0.01695567],\n",
       "       [-1.86488766, -0.15355997],\n",
       "       [-1.94023969,  0.14854956],\n",
       "       [ 1.98120054, -0.90047924]])"
      ]
     },
     "execution_count": 56,
     "metadata": {},
     "output_type": "execute_result"
    }
   ],
   "source": [
    "pca = PCA(n_components=2)\n",
    "pca.fit(X_scaler)\n",
    "X_2dim = pca.transform(X_scaler)\n",
    "X_2dim[:10,:]"
   ]
  },
  {
   "cell_type": "markdown",
   "metadata": {},
   "source": [
    "### Etiquetas"
   ]
  },
  {
   "cell_type": "code",
   "execution_count": 57,
   "metadata": {},
   "outputs": [
    {
     "data": {
      "text/plain": [
       "array([1, 1, 0, 1, 2, 0, 0, 1, 1, 0])"
      ]
     },
     "execution_count": 57,
     "metadata": {},
     "output_type": "execute_result"
    }
   ],
   "source": [
    "y[:10]"
   ]
  },
  {
   "cell_type": "code",
   "execution_count": 58,
   "metadata": {},
   "outputs": [
    {
     "data": {
      "text/plain": [
       "<AxesSubplot:>"
      ]
     },
     "execution_count": 58,
     "metadata": {},
     "output_type": "execute_result"
    },
    {
     "data": {
      "image/png": "[encoded data removed]",
      "text/plain": [
       "<Figure size 432x288 with 1 Axes>"
      ]
     },
     "metadata": {},
     "output_type": "display_data"
    }
   ],
   "source": [
    "sns.scatterplot(x=X_2dim[:,0], y=X_2dim[:,1], hue= y, palette='rainbow')"
   ]
  },
  {
   "cell_type": "markdown",
   "metadata": {},
   "source": [
    "______________________________________"
   ]
  },
  {
   "cell_type": "markdown",
   "metadata": {},
   "source": [
    "## Perceptrón Multicapa"
   ]
  },
  {
   "cell_type": "markdown",
   "metadata": {},
   "source": [
    "### Se separan los datos en entrenamiento y validación"
   ]
  },
  {
   "cell_type": "code",
   "execution_count": 16,
   "metadata": {},
   "outputs": [],
   "source": [
    "X_train, X_test, y_train, y_test = train_test_split(X_2dim, y, test_size=0.20, shuffle= True)"
   ]
  },
  {
   "cell_type": "code",
   "execution_count": 31,
   "metadata": {},
   "outputs": [
    {
     "data": {
      "text/plain": [
       "(2, 120)"
      ]
     },
     "execution_count": 31,
     "metadata": {},
     "output_type": "execute_result"
    }
   ],
   "source": [
    "X_train.shape"
   ]
  },
  {
   "cell_type": "code",
   "execution_count": 32,
   "metadata": {},
   "outputs": [
    {
     "data": {
      "text/plain": [
       "(2, 30)"
      ]
     },
     "execution_count": 32,
     "metadata": {},
     "output_type": "execute_result"
    }
   ],
   "source": [
    "X_test.shape"
   ]
  },
  {
   "cell_type": "code",
   "execution_count": 33,
   "metadata": {},
   "outputs": [
    {
     "data": {
      "text/plain": [
       "(1, 120)"
      ]
     },
     "execution_count": 33,
     "metadata": {},
     "output_type": "execute_result"
    }
   ],
   "source": [
    "y_train.shape"
   ]
  },
  {
   "cell_type": "code",
   "execution_count": 34,
   "metadata": {},
   "outputs": [
    {
     "data": {
      "text/plain": [
       "(1, 30)"
      ]
     },
     "execution_count": 34,
     "metadata": {},
     "output_type": "execute_result"
    }
   ],
   "source": [
    "y_test.shape"
   ]
  },
  {
   "cell_type": "markdown",
   "metadata": {},
   "source": [
    "## LeaveOneOut"
   ]
  },
  {
   "cell_type": "code",
   "execution_count": 19,
   "metadata": {},
   "outputs": [
    {
     "name": "stdout",
     "output_type": "stream",
     "text": [
      "Accuracy: 0.99\n",
      "              precision    recall  f1-score   support\n",
      "\n",
      "           0       0.98      0.98      0.98        45\n",
      "           1       1.00      1.00      1.00        62\n",
      "           2       0.98      0.98      0.98        43\n",
      "\n",
      "    accuracy                           0.99       150\n",
      "   macro avg       0.98      0.98      0.98       150\n",
      "weighted avg       0.99      0.99      0.99       150\n",
      "\n"
     ]
    }
   ],
   "source": [
    "list_error_porcentual = []\n",
    "\n",
    "list_y_pred, list_y_test = [], [] \n",
    "\n",
    "loo = LeaveOneOut()\n",
    "for train_index, test_index in loo.split(X_2dim):\n",
    "    # index\n",
    "    X_train, X_test = X_2dim[train_index], X_2dim[test_index]\n",
    "    y_train, y_test = y[train_index], y[test_index]\n",
    "\n",
    "    # train\n",
    "    mlp_clf = MLPClassifier(\n",
    "        hidden_layer_sizes=(100,), max_iter=100, alpha=1e-4,solver='sgd', tol=1e-4,learning_rate_init=.1)\n",
    "    mlp_clf.fit(X_train, y_train)\n",
    "    # test\n",
    "    y_pred = mlp_clf.predict(X_test)\n",
    "    # error\n",
    "    list_y_pred.append(y_pred)\n",
    "    list_y_test.append(y_test)\n",
    "\n",
    "print('Accuracy: {:.2f}'.format(accuracy_score(list_y_test, list_y_pred)))\n",
    "print(classification_report(list_y_test, list_y_pred))\n"
   ]
  },
  {
   "cell_type": "code",
   "execution_count": 27,
   "metadata": {},
   "outputs": [
    {
     "data": {
      "image/png": "[encoded data removed]",
      "text/plain": [
       "<Figure size 432x288 with 2 Axes>"
      ]
     },
     "metadata": {},
     "output_type": "display_data"
    }
   ],
   "source": [
    "fig = plot_confusion_matrix(mlp_clf, X_test, y_test, display_labels=mlp_clf.classes_)\n",
    "fig.figure_.suptitle(\"Confusion Matrix for Iris Dataset\")\n",
    "plt.show()"
   ]
  },
  {
   "cell_type": "code",
   "execution_count": 28,
   "metadata": {},
   "outputs": [
    {
     "data": {
      "image/png": "[encoded data removed]",
      "text/plain": [
       "<Figure size 432x288 with 1 Axes>"
      ]
     },
     "metadata": {},
     "output_type": "display_data"
    }
   ],
   "source": [
    "MLP_binary_classification_2d(mlp_clf, X_test, y_test)\n"
   ]
  },
  {
   "cell_type": "code",
   "execution_count": 29,
   "metadata": {},
   "outputs": [
    {
     "data": {
      "image/png": "[encoded data removed]",
      "text/plain": [
       "<Figure size 432x288 with 1 Axes>"
      ]
     },
     "metadata": {},
     "output_type": "display_data"
    }
   ],
   "source": [
    "\n",
    "plt.plot(mlp_clf.loss_curve_)\n",
    "plt.title(\"Loss Curve\", fontsize=14)\n",
    "plt.xlabel('Iterations')\n",
    "plt.ylabel('Cost')\n",
    "plt.show()"
   ]
  },
  {
   "cell_type": "markdown",
   "metadata": {},
   "source": [
    "## LeavePOut"
   ]
  },
  {
   "cell_type": "code",
   "execution_count": 21,
   "metadata": {},
   "outputs": [],
   "source": [
    "list_error_porcentual = []\n",
    "list_y_pred, list_y_test = [], [] \n",
    "\n",
    "lpo = LeavePOut(2)\n",
    "for train_index, test_index in lpo.split(X_2dim):\n",
    "    # index\n",
    "    X_train, X_test = X_2dim[train_index], X_2dim[test_index]\n",
    "    y_train, y_test = y[train_index], y[test_index]\n",
    "\n",
    "    # train\n",
    "    mlp_clf = MLPClassifier(\n",
    "        hidden_layer_sizes=(100,), max_iter=100, alpha=1e-4,solver='sgd', tol=1e-4,learning_rate_init=.1)\n",
    "    mlp_clf.fit(X_train, y_train)\n",
    "    # test\n",
    "    y_pred = mlp_clf.predict(X_test)\n",
    "    # error\n",
    "    list_y_pred.append(y_pred)\n",
    "    list_y_test.append(y_test)\n"
   ]
  },
  {
   "cell_type": "code",
   "execution_count": 63,
   "metadata": {},
   "outputs": [
    {
     "name": "stdout",
     "output_type": "stream",
     "text": [
      "              precision    recall  f1-score   support\n",
      "\n",
      "           0       1.00      1.00      1.00      3480\n",
      "           1       1.00      1.00      1.00      4663\n",
      "           2       1.00      1.00      1.00      3032\n",
      "\n",
      "    accuracy                           1.00     11175\n",
      "   macro avg       1.00      1.00      1.00     11175\n",
      "weighted avg       1.00      1.00      1.00     11175\n",
      "\n"
     ]
    }
   ],
   "source": [
    "# cross_val_score(mlp_clf, X_train, y_train, cv=5)\n",
    "# print('Accuracy: {:.2f}'.format(accuracy_score(list_y_test, list_y_pred)))\n",
    "print(classification_report(np.array(list_y_test)[:,1], np.array(list_y_test)[:,1]))"
   ]
  },
  {
   "cell_type": "code",
   "execution_count": 40,
   "metadata": {},
   "outputs": [
    {
     "data": {
      "image/png": "[encoded data removed]",
      "text/plain": [
       "<Figure size 432x288 with 2 Axes>"
      ]
     },
     "metadata": {},
     "output_type": "display_data"
    }
   ],
   "source": [
    "fig = plot_confusion_matrix(mlp_clf, X_test, y_test, display_labels=mlp_clf.classes_)\n",
    "fig.figure_.suptitle(\"Confusion Matrix for Iris Dataset\")\n",
    "plt.show()"
   ]
  },
  {
   "cell_type": "code",
   "execution_count": 22,
   "metadata": {},
   "outputs": [
    {
     "data": {
      "image/png": "[encoded data removed]",
      "text/plain": [
       "<Figure size 432x288 with 1 Axes>"
      ]
     },
     "metadata": {},
     "output_type": "display_data"
    }
   ],
   "source": [
    "MLP_binary_classification_2d(mlp_clf, X_2dim, y)\n"
   ]
  },
  {
   "cell_type": "code",
   "execution_count": 64,
   "metadata": {},
   "outputs": [
    {
     "data": {
      "image/png": "[encoded data removed]",
      "text/plain": [
       "<Figure size 432x288 with 1 Axes>"
      ]
     },
     "metadata": {},
     "output_type": "display_data"
    }
   ],
   "source": [
    "plt.plot(mlp_clf.loss_curve_)\n",
    "plt.title(\"Loss Curve\", fontsize=14)\n",
    "plt.xlabel('Iterations')\n",
    "plt.ylabel('Cost')\n",
    "plt.show()"
   ]
  },
  {
   "cell_type": "markdown",
   "metadata": {},
   "source": [
    "## Conclusiones"
   ]
  },
  {
   "cell_type": "markdown",
   "metadata": {},
   "source": [
    "En esta práctica pude profundizar sobre los diferentes métodos de distribución de los datos para poder evitar el sobre entrenamiento, en lugar de entrenar al modelo con el set de datos en su orden original. Ya que al dividir los datos aleatoriamente en subconjuntos para promediar sus diferentes resultados. En este experimento el LeaveKOut tuvo mayor precisión en las 3 clases del dataset. Cuando se realizan estas técnicas el modelo adquiere unan mayor robustez, ya que se le al entrenar mayor variabilidad de los datos. \n",
    "\n",
    "Un factor importante al elegir entre los métodos de validación cruzada k-fold y LOO es el tamaño del conjunto de datos.\n",
    "Ya que si se llega a utilizar uno muy grande el algoritmo de repeated-k-fold puede ser mejor opcion, porque es menos costoso computacionalmente y las muestras de prueba son suficientes para tener un resultado significativo. Y Leave-P-Out con un tamaño pequeño puede ser el más apropiado, ya que se utilizarán más muestras de entrenamiento en cada iteración.\n",
    "\n",
    "Además se graficaron las curvas de pérdida que nos brindan una mejor comprensión de cómo cambia el rendimiento del aprendizaje a lo largo de la cantidad de épocas y nos ayudan a diagnosticar cualquier problema con el aprendizaje que pueda conducir a un modelo inadecuado o excesivo."
   ]
  }
 ],
 "metadata": {
  "kernelspec": {
   "display_name": "Python 3.9.7 ('base')",
   "language": "python",
   "name": "python3"
  },
  "language_info": {
   "codemirror_mode": {
    "name": "ipython",
    "version": 3
   },
   "file_extension": ".py",
   "mimetype": "text/x-python",
   "name": "python",
   "nbconvert_exporter": "python",
   "pygments_lexer": "ipython3",
   "version": "3.9.7"
  },
  "orig_nbformat": 4,
  "vscode": {
   "interpreter": {
    "hash": "a260e626cb77863c67c5468b270d37366524e20894372c632ae8c99a6a196644"
   }
  }
 },
 "nbformat": 4,
 "nbformat_minor": 2
}
