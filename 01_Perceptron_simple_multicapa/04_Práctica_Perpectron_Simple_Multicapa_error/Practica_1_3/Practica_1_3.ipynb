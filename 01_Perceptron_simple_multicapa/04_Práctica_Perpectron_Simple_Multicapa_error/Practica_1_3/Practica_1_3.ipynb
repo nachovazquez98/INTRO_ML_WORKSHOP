{
 "cells": [
  {
   "cell_type": "markdown",
   "metadata": {},
   "source": [
    "- Universidad de Guadalajara\n",
    "- Centro Universitario de Ciencias Exactas e Ingenierías\n",
    "- Seminario de Solución de Problemas de Inteligencia Artificial II\n",
    "- Dr. Diego Oliva\n",
    "- Depto. De Ciencias Computacionales\n",
    "- Practica 1_3\n",
    "- Perceptrón Simple y Multicapa"
   ]
  },
  {
   "cell_type": "markdown",
   "metadata": {},
   "source": [
    "# Ejercicio 3:\n",
    "Implementar el algoritmo de retropropagación para un perceptrón multicapa de forma\n",
    "que se puedan elegir libremente la cantidad de capas de la red y la cantidad de neuronas para cada\n",
    "capa."
   ]
  },
  {
   "cell_type": "code",
   "execution_count": 1,
   "metadata": {},
   "outputs": [],
   "source": [
    "import numpy as np\n",
    "import random\n",
    "import numpy as np\n",
    "import pandas as pd\n",
    "from mpl_toolkits.mplot3d import Axes3D  \n",
    "import matplotlib.pyplot as plt\n",
    "from sklearn.preprocessing import StandardScaler\n",
    "from sklearn.model_selection import train_test_split\n",
    "import seaborn as sns; sns.set()\n",
    "from sklearn import metrics \n",
    "from sklearn.model_selection import KFold # import KFold"
   ]
  },
  {
   "cell_type": "markdown",
   "metadata": {},
   "source": [
    "### Función para graficar el modelo de clasificación"
   ]
  },
  {
   "cell_type": "code",
   "execution_count": 2,
   "metadata": {},
   "outputs": [],
   "source": [
    "def MLP_binary_classification_2d(X,Y,net):\n",
    "    plt.figure()\n",
    "    for i in range(X.shape[1]):\n",
    "        if Y[0,i]==1:\n",
    "            plt.plot(X[0,i], X[1,i], '.r')\n",
    "        else:\n",
    "            plt.plot(X[0,i], X[1,i], '.b')\n",
    "    xmin, ymin=np.min(X[0,:])-0.5, np.min(X[1,:])-0.5\n",
    "    xmax, ymax=np.max(X[0,:])+0.5, np.max(X[1,:])+0.5\n",
    "    xx, yy = np.meshgrid(np.linspace(xmin,xmax, 100), \n",
    "                         np.linspace(ymin,ymax, 100))\n",
    "    data = [xx.ravel(), yy.ravel()]\n",
    "    zz = net.predict(data)\n",
    "    zz = zz.reshape(xx.shape)\n",
    "    plt.contourf(xx,yy,zz, alpha=0.8, \n",
    "                 cmap=plt.cm.RdBu)\n",
    "    plt.xlim([xmin,xmax])\n",
    "    plt.ylim([ymin,ymax])\n",
    "    plt.grid()\n",
    "    plt.show()"
   ]
  },
  {
   "cell_type": "markdown",
   "metadata": {},
   "source": [
    "### Funciones de activación para las capas ocultas y la de salida"
   ]
  },
  {
   "cell_type": "code",
   "execution_count": 3,
   "metadata": {},
   "outputs": [],
   "source": [
    "# activation function for output layer\n",
    "def linear(z, derivative=False):\n",
    "    a = z.copy()\n",
    "    if derivative:\n",
    "        da = np.ones(z.shape)\n",
    "        return a, da\n",
    "    return a\n",
    "def logistic(z, derivative=False):\n",
    "    a = 1/(1 + np.exp(-z))\n",
    "    if derivative:\n",
    "        da = np.ones(z.shape)\n",
    "        return a, da\n",
    "    return a\n",
    "def softmax(z, derivative=False):\n",
    "    e = np.exp(z - np.max(z, axis=0))\n",
    "    a = e / np.sum(e, axis=0)\n",
    "    if derivative:\n",
    "        da = np.ones(z.shape)\n",
    "        return a, da\n",
    "    return a\n",
    "# activation functions for hidden layers\n",
    "def tanh(z, derivative=False):\n",
    "    a = np.tanh(z)\n",
    "    if derivative:\n",
    "        da = (1 - a) * (1 + a)\n",
    "        return a, da\n",
    "    return a\n",
    "\n",
    "def relu(z, derivative=False):\n",
    "    a = np.tanh(z)\n",
    "    if derivative:\n",
    "        da = (1 - a) * (1 + a)\n",
    "        return a, da\n",
    "    return a\n",
    "\n",
    "def logistic_hidden(z, derivative=False):\n",
    "    a = 1/(1 + np.exp(-z))\n",
    "    if derivative:\n",
    "        da = a * (1 - a)\n",
    "        return a, da\n",
    "    return a"
   ]
  },
  {
   "cell_type": "markdown",
   "metadata": {},
   "source": [
    "### Clase de red nueronal de múltiples capas"
   ]
  },
  {
   "cell_type": "code",
   "execution_count": 4,
   "metadata": {},
   "outputs": [],
   "source": [
    "class MLP:\n",
    "    def __init__(self, layers_dims, hidden_activation=tanh, output_activation=logistic):\n",
    "        self.L = len(layers_dims) - 1\n",
    "        self.w = [None] * (self.L + 1)\n",
    "        self.b = [None] * (self.L + 1)\n",
    "        self.f = [None] * (self.L + 1)\n",
    "        # initialize weights\n",
    "        for l in range(1, self.L + 1):\n",
    "            self.w[l] = -1 + 2 * np.random.rand(layers_dims[l], layers_dims[l - 1])\n",
    "            self.b[l] = -1 + 2 * np.random.rand(layers_dims[l], 1)\n",
    "            if l == self.L:\n",
    "                self.f[l] = output_activation\n",
    "            else:\n",
    "                self.f[l] = hidden_activation\n",
    "    def predict(self, X):\n",
    "        a = np.asanyarray(X)\n",
    "        for l in range(1, self.L + 1):\n",
    "            z = np.dot(self.w[l], a) + self.b[l]\n",
    "            a = self.f[l](z)\n",
    "        return a\n",
    "    def train(self, X, Y, epochs=500, lr=0.1):\n",
    "        P = X.shape[1]\n",
    "        for _ in range(epochs):\n",
    "            for p in range(P):\n",
    "                # initialize activations\n",
    "                a = [None] * (self.L + 1)\n",
    "                da = [None] * (self.L + 1)\n",
    "                lg = [None] * (self.L + 1)\n",
    "                # propagation\n",
    "                a[0] = X[:,p].reshape(-1,1)\n",
    "                for l in range(1, self.L + 1):\n",
    "                    z = np.dot(self.w[l], a[l-1]) + self.b[l]\n",
    "                    a[l], da[l] = self.f[l](z, derivative=True)\n",
    "                # backpropagation\n",
    "                for l in range(self.L, 0, -1):\n",
    "                    if l == self.L:\n",
    "                        lg[l] = (y[:,p].reshape(-1,1) - a[l]) * da[l]\n",
    "                    else:\n",
    "                        lg[l] = np.dot(self.w[l+1].T, lg[l + 1]) * da[l]\n",
    "                # gradient descent\n",
    "                for l in range(1, self.L + 1):\n",
    "                    self.w[l] += lr * np.dot(lg[l], a[l - 1].T)\n",
    "                    self.b[l] += lr * lg[l]"
   ]
  },
  {
   "cell_type": "markdown",
   "metadata": {},
   "source": [
    "# Ejercicio 3_1"
   ]
  },
  {
   "cell_type": "markdown",
   "metadata": {},
   "source": [
    "1. Para entrenar y probar el algoritmo se debe usar el dataset concentlite.csv, el cual contiene\n",
    "dos clases distribuidas de forma concéntrica (Figura 2). Debe representarse gráficamente con\n",
    "diferentes colores el resultado de la clasificación hecha por el perceptrón multicapa."
   ]
  },
  {
   "cell_type": "markdown",
   "metadata": {},
   "source": [
    "2. Probar otra regla se aprendizaje o alguna modificación a la retropropagación."
   ]
  },
  {
   "cell_type": "markdown",
   "metadata": {},
   "source": [
    "## Dataset"
   ]
  },
  {
   "cell_type": "code",
   "execution_count": 7,
   "metadata": {},
   "outputs": [],
   "source": [
    "concentlite_dataset = np.genfromtxt('concentlite.csv', delimiter=',')"
   ]
  },
  {
   "cell_type": "code",
   "execution_count": 8,
   "metadata": {},
   "outputs": [],
   "source": [
    "X = concentlite_dataset[:,0:2]\n",
    "y = concentlite_dataset[:,2]"
   ]
  },
  {
   "cell_type": "code",
   "execution_count": 9,
   "metadata": {},
   "outputs": [
    {
     "data": {
      "text/plain": [
       "(833, 2)"
      ]
     },
     "execution_count": 9,
     "metadata": {},
     "output_type": "execute_result"
    }
   ],
   "source": [
    "X.shape"
   ]
  },
  {
   "cell_type": "code",
   "execution_count": 10,
   "metadata": {},
   "outputs": [
    {
     "data": {
      "text/plain": [
       "(833,)"
      ]
     },
     "execution_count": 10,
     "metadata": {},
     "output_type": "execute_result"
    }
   ],
   "source": [
    "y.shape"
   ]
  },
  {
   "cell_type": "code",
   "execution_count": 11,
   "metadata": {},
   "outputs": [
    {
     "data": {
      "text/plain": [
       "<matplotlib.collections.PathCollection at 0x7fb1459888b0>"
      ]
     },
     "execution_count": 11,
     "metadata": {},
     "output_type": "execute_result"
    },
    {
     "data": {
      "image/png": "[encoded data removed]",
      "text/plain": [
       "<Figure size 720x576 with 1 Axes>"
      ]
     },
     "metadata": {},
     "output_type": "display_data"
    }
   ],
   "source": [
    "# Plotting\n",
    "fig = plt.figure(figsize=(10,8))\n",
    "plt.scatter(X[:, 0][y[:]==-1], X[:, 1][y[:]==-1])\n",
    "plt.scatter(X[:, 0][y[:]==1], X[:, 1][y[:]==1])"
   ]
  },
  {
   "cell_type": "markdown",
   "metadata": {},
   "source": [
    "## Perceptrón Multicapa"
   ]
  },
  {
   "cell_type": "code",
   "execution_count": 12,
   "metadata": {},
   "outputs": [],
   "source": [
    "X_train, X_test, y_train, y_test = train_test_split(X, y, test_size=0.20, shuffle= True)"
   ]
  },
  {
   "cell_type": "code",
   "execution_count": 13,
   "metadata": {},
   "outputs": [
    {
     "data": {
      "text/plain": [
       "(666, 2)"
      ]
     },
     "execution_count": 13,
     "metadata": {},
     "output_type": "execute_result"
    }
   ],
   "source": [
    "X_train.shape"
   ]
  },
  {
   "cell_type": "code",
   "execution_count": 14,
   "metadata": {},
   "outputs": [
    {
     "data": {
      "text/plain": [
       "(167, 2)"
      ]
     },
     "execution_count": 14,
     "metadata": {},
     "output_type": "execute_result"
    }
   ],
   "source": [
    "X_test.shape"
   ]
  },
  {
   "cell_type": "code",
   "execution_count": 15,
   "metadata": {},
   "outputs": [
    {
     "data": {
      "text/plain": [
       "(666,)"
      ]
     },
     "execution_count": 15,
     "metadata": {},
     "output_type": "execute_result"
    }
   ],
   "source": [
    "y_train.shape"
   ]
  },
  {
   "cell_type": "code",
   "execution_count": 16,
   "metadata": {},
   "outputs": [
    {
     "data": {
      "text/plain": [
       "(167,)"
      ]
     },
     "execution_count": 16,
     "metadata": {},
     "output_type": "execute_result"
    }
   ],
   "source": [
    "y_test.shape"
   ]
  },
  {
   "cell_type": "code",
   "execution_count": 17,
   "metadata": {},
   "outputs": [],
   "source": [
    "X_train = X_train.T\n",
    "X_test = X_test.T\n",
    "y_train = np.expand_dims(y_train, axis=0)\n",
    "y_test = np.expand_dims(y_test, axis=0)"
   ]
  },
  {
   "cell_type": "code",
   "execution_count": 18,
   "metadata": {},
   "outputs": [
    {
     "data": {
      "text/plain": [
       "(2, 666)"
      ]
     },
     "execution_count": 18,
     "metadata": {},
     "output_type": "execute_result"
    }
   ],
   "source": [
    "X_train.shape"
   ]
  },
  {
   "cell_type": "code",
   "execution_count": 19,
   "metadata": {},
   "outputs": [
    {
     "data": {
      "text/plain": [
       "(1, 666)"
      ]
     },
     "execution_count": 19,
     "metadata": {},
     "output_type": "execute_result"
    }
   ],
   "source": [
    "y_train.shape"
   ]
  },
  {
   "cell_type": "code",
   "execution_count": 20,
   "metadata": {},
   "outputs": [
    {
     "data": {
      "text/plain": [
       "(2, 167)"
      ]
     },
     "execution_count": 20,
     "metadata": {},
     "output_type": "execute_result"
    }
   ],
   "source": [
    "X_test.shape"
   ]
  },
  {
   "cell_type": "code",
   "execution_count": 21,
   "metadata": {},
   "outputs": [
    {
     "data": {
      "text/plain": [
       "(1, 167)"
      ]
     },
     "execution_count": 21,
     "metadata": {},
     "output_type": "execute_result"
    }
   ],
   "source": [
    "y_test.shape"
   ]
  },
  {
   "cell_type": "markdown",
   "metadata": {},
   "source": [
    "### Prueba 1\n",
    "- hidden_activation = relu\n",
    "- output_activation = logistic\n",
    "- 100 capas\n",
    "- 1000 epocas\n",
    "- tasa de aprendizaje 0.01"
   ]
  },
  {
   "cell_type": "code",
   "execution_count": 52,
   "metadata": {},
   "outputs": [
    {
     "name": "stdout",
     "output_type": "stream",
     "text": [
      "X_train shape:  (2, 666) y_train shape:  (1, 666)\n",
      "X_test shape:  (2, 167) y_test shape:  (1, 167)\n"
     ]
    },
    {
     "name": "stderr",
     "output_type": "stream",
     "text": [
      "/tmp/ipykernel_14955/1495947191.py:9: RuntimeWarning: overflow encountered in exp\n",
      "  a = 1/(1 + np.exp(-z))\n"
     ]
    },
    {
     "data": {
      "image/png": "[encoded data removed]",
      "text/plain": [
       "<Figure size 432x288 with 1 Axes>"
      ]
     },
     "metadata": {},
     "output_type": "display_data"
    },
    {
     "name": "stdout",
     "output_type": "stream",
     "text": [
      "Error porcentual:  28.143712574850298\n"
     ]
    }
   ],
   "source": [
    "list_error_porcentual = []\n",
    "\n",
    "print(\"X_train shape: \", X_train.shape, \"y_train shape: \", y_train.shape)\n",
    "print(\"X_test shape: \", X_test.shape, \"y_test shape: \", y_test.shape)\n",
    "# train\n",
    "net = MLP((2,100,1),hidden_activation = relu, output_activation = logistic)    # test\n",
    "net.train(X_train, y_train,  epochs=1000, lr=0.01)\n",
    "# test\n",
    "y_pred = net.predict(X_test)\n",
    "y_pred = np.where(y_pred == 0., -1., y_pred)\n",
    "y_pred = np.where(y_pred > 0, 1., y_pred)\n",
    "aprox = (y_test == y_pred).sum()\n",
    "error_porcentual = (abs(aprox - y_test.shape[1])/ y_test.shape[1])*100\n",
    "\n",
    "MLP_binary_classification_2d(X_test,y_test,net)\n",
    "\n",
    "print('Error porcentual: ', error_porcentual)\n"
   ]
  },
  {
   "cell_type": "markdown",
   "metadata": {},
   "source": [
    "### Prueba 2\n",
    "- hidden_activation = logistic_hidden\n",
    "- output_activation = logistic\n",
    "- 5 capas\n",
    "- 1000 epocas\n",
    "- tasa de aprendizaje 0.01"
   ]
  },
  {
   "cell_type": "code",
   "execution_count": 49,
   "metadata": {},
   "outputs": [
    {
     "name": "stdout",
     "output_type": "stream",
     "text": [
      "X_train shape:  (2, 666) y_train shape:  (1, 666)\n",
      "X_test shape:  (2, 167) y_test shape:  (1, 167)\n"
     ]
    },
    {
     "data": {
      "image/png": "[encoded data removed]",
      "text/plain": [
       "<Figure size 432x288 with 1 Axes>"
      ]
     },
     "metadata": {},
     "output_type": "display_data"
    },
    {
     "name": "stdout",
     "output_type": "stream",
     "text": [
      "Error porcentual:  39.52095808383233\n"
     ]
    }
   ],
   "source": [
    "list_error_porcentual = []\n",
    "\n",
    "print(\"X_train shape: \", X_train.shape, \"y_train shape: \", y_train.shape)\n",
    "print(\"X_test shape: \", X_test.shape, \"y_test shape: \", y_test.shape)\n",
    "# train\n",
    "net = MLP((2,5,1),hidden_activation = logistic_hidden, output_activation = logistic)    # test\n",
    "net.train(X_train, y_train,  epochs=1000, lr=0.01)\n",
    "# test\n",
    "y_pred = net.predict(X_test)\n",
    "y_pred = np.where(y_pred == 0., -1., y_pred)\n",
    "y_pred = np.where(y_pred > 0, 1., y_pred)\n",
    "aprox = (y_test == y_pred).sum()\n",
    "error_porcentual = (abs(aprox - y_test.shape[1])/ y_test.shape[1])*100\n",
    "\n",
    "MLP_binary_classification_2d(X_test,y_test,net)\n",
    "\n",
    "print('Error porcentual: ', error_porcentual)\n",
    "\n"
   ]
  },
  {
   "cell_type": "markdown",
   "metadata": {},
   "source": [
    "### Prueba 3\n",
    "- hidden_activation = relu\n",
    "- output_activation = linear\n",
    "- 500 capas\n",
    "- 100 epocas\n",
    "- tasa de aprendizaje 0.001"
   ]
  },
  {
   "cell_type": "code",
   "execution_count": 62,
   "metadata": {},
   "outputs": [
    {
     "name": "stdout",
     "output_type": "stream",
     "text": [
      "X_train shape:  (2, 666) y_train shape:  (1, 666)\n",
      "X_test shape:  (2, 167) y_test shape:  (1, 167)\n"
     ]
    },
    {
     "data": {
      "image/png": "[encoded data removed]",
      "text/plain": [
       "<Figure size 432x288 with 1 Axes>"
      ]
     },
     "metadata": {},
     "output_type": "display_data"
    },
    {
     "name": "stdout",
     "output_type": "stream",
     "text": [
      "Error porcentual:  49.700598802395206\n"
     ]
    }
   ],
   "source": [
    "list_error_porcentual = []\n",
    "\n",
    "print(\"X_train shape: \", X_train.shape, \"y_train shape: \", y_train.shape)\n",
    "print(\"X_test shape: \", X_test.shape, \"y_test shape: \", y_test.shape)\n",
    "# train\n",
    "net = MLP((2,500,1),hidden_activation = relu, output_activation = linear)    # test\n",
    "net.train(X_train, y_train,  epochs=100, lr=0.001)\n",
    "# test\n",
    "y_pred = net.predict(X_test)\n",
    "y_pred = np.where(y_pred == 0., -1., y_pred)\n",
    "y_pred = np.where(y_pred > 0, 1., y_pred)\n",
    "aprox = (y_test == y_pred).sum()\n",
    "error_porcentual = (abs(aprox - y_test.shape[1])/ y_test.shape[1])*100\n",
    "\n",
    "MLP_binary_classification_2d(X_test,y_test,net)\n",
    "\n",
    "print('Error porcentual: ', error_porcentual)\n",
    "\n"
   ]
  },
  {
   "cell_type": "markdown",
   "metadata": {},
   "source": [
    "### Prueba 4\n",
    "- hidden_activation = relu\n",
    "- output_activation = linear\n",
    "- 15 capas\n",
    "- 5000 epocas\n",
    "- tasa de aprendizaje 0.001"
   ]
  },
  {
   "cell_type": "code",
   "execution_count": 41,
   "metadata": {},
   "outputs": [
    {
     "name": "stdout",
     "output_type": "stream",
     "text": [
      "X_train shape:  (2, 666) y_train shape:  (1, 666)\n",
      "X_test shape:  (2, 167) y_test shape:  (1, 167)\n"
     ]
    },
    {
     "data": {
      "image/png": "[encoded data removed]",
      "text/plain": [
       "<Figure size 432x288 with 1 Axes>"
      ]
     },
     "metadata": {},
     "output_type": "display_data"
    },
    {
     "name": "stdout",
     "output_type": "stream",
     "text": [
      "Error porcentual:  35.32934131736527\n"
     ]
    }
   ],
   "source": [
    "list_error_porcentual = []\n",
    "\n",
    "print(\"X_train shape: \", X_train.shape, \"y_train shape: \", y_train.shape)\n",
    "print(\"X_test shape: \", X_test.shape, \"y_test shape: \", y_test.shape)\n",
    "# train\n",
    "net = MLP((2,15,1),hidden_activation = relu, output_activation = linear)\n",
    "net.train(X_train, y_train,  epochs=5000, lr=0.001)\n",
    "# test\n",
    "y_pred = net.predict(X_test)\n",
    "y_pred = np.where(y_pred == 0., -1., y_pred)\n",
    "y_pred = np.where(y_pred > 0, 1., y_pred)\n",
    "aprox = (y_test == y_pred).sum()\n",
    "error_porcentual = (abs(aprox - y_test.shape[1])/ y_test.shape[1])*100\n",
    "\n",
    "MLP_binary_classification_2d(X_test,y_test,net)\n",
    "print('Error porcentual: ', error_porcentual)\n",
    "\n"
   ]
  },
  {
   "cell_type": "markdown",
   "metadata": {},
   "source": [
    "## Conclusiones"
   ]
  },
  {
   "cell_type": "markdown",
   "metadata": {},
   "source": [
    "En esta práctica estuve experimentando con los diferentes hiperparámetros y funciones de activación. Algunas de estas combinaciones generaron patrones similares o muy singulares dependiendo de su configuración. Es importante mencionar que el modelo puede obtener mejores métricas al aprender de manea muy específica el problema, en la vida real hay casos de ruido o datos sesgados donde el modelo por su exactitud muy alta va a tener una peor evaluación. En cambio si el modelo cuenta con un rango de suavizado donde puede caber un margen de error, este se va a poder adaptar mejorar a nuevos datos. \n",
    "También aprendí que no importa si la complejidad es demasiado alta, no va a haber cambios significativos en las métricas de evaluación. De esta manera un modelo que no sea muy costoso computacionalmente puede competir en término de métricas con un modelo muy complejo y costoso. El punto importante es aprender a balancear las métricas, la sensibilidad a nuevos datos y su complejidad."
   ]
  }
 ],
 "metadata": {
  "interpreter": {
   "hash": "a260e626cb77863c67c5468b270d37366524e20894372c632ae8c99a6a196644"
  },
  "kernelspec": {
   "display_name": "Python 3.9.7 ('base')",
   "language": "python",
   "name": "python3"
  },
  "language_info": {
   "codemirror_mode": {
    "name": "ipython",
    "version": 3
   },
   "file_extension": ".py",
   "mimetype": "text/x-python",
   "name": "python",
   "nbconvert_exporter": "python",
   "pygments_lexer": "ipython3",
   "version": "3.9.7"
  },
  "orig_nbformat": 4
 },
 "nbformat": 4,
 "nbformat_minor": 2
}
