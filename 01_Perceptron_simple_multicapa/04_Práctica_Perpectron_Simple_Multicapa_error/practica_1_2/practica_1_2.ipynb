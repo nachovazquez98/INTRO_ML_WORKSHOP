{
 "cells": [
  {
   "cell_type": "markdown",
   "metadata": {},
   "source": [
    "- Universidad de Guadalajara\n",
    "- Centro Universitario de Ciencias Exactas e Ingenierías\n",
    "- Seminario de Solución de Problemas de Inteligencia Artificial II\n",
    "- Dr. Diego Oliva\n",
    "- Depto. De Ciencias Computacionales\n",
    "- Practica 1_2\n",
    "- Perceptrón Simple y Multicapa"
   ]
  },
  {
   "cell_type": "markdown",
   "metadata": {},
   "source": [
    "# Ejercicio 2:\n",
    "Realizar un programa que permita generar un conjunto de particiones de entrenamiento\n",
    "considerando un dataset. El programa debe permitir seleccionar la cantidad e particiones y el\n",
    "porcentaje de patrones de entrenamiento y prueba. Para verificar su funcionamiento se debe realizar\n",
    "lo siguiente:"
   ]
  },
  {
   "cell_type": "code",
   "execution_count": 7,
   "metadata": {},
   "outputs": [],
   "source": [
    "import numpy as np\n",
    "import random\n",
    "import numpy as np\n",
    "import pandas as pd\n",
    "from mpl_toolkits.mplot3d import Axes3D  \n",
    "import matplotlib.pyplot as plt\n",
    "from sklearn.preprocessing import StandardScaler\n",
    "from sklearn.model_selection import train_test_split\n",
    "import seaborn as sns; sns.set()\n",
    "from sklearn import metrics \n",
    "from sklearn.model_selection import KFold # import KFold\n"
   ]
  },
  {
   "cell_type": "markdown",
   "metadata": {},
   "source": [
    "## Se define el perceptrón de una sola capa"
   ]
  },
  {
   "cell_type": "code",
   "execution_count": 8,
   "metadata": {},
   "outputs": [],
   "source": [
    "def step_func(z):\n",
    "        return 1.0 if (z > 0) else 0.0\n",
    "def perceptron(X, y, lr, epochs, pretrained = None, pretrained_synaptic_weights = None):\n",
    "    m, n = X.shape\n",
    "    #Se crea en vector de pesos de la neurona \n",
    "    # con valores aleatorios y bias\n",
    "    if pretrained == False:\n",
    "        synaptic_weights = np.zeros((n+1,1))\n",
    "    elif pretrained != False:\n",
    "        synaptic_weights = pretrained_synaptic_weights.copy()\n",
    "    n_error_list = []\n",
    "    #El algoritmo de entrenamiento se ejecuta por el total de iteraciones\n",
    "    for epoch in range(epochs):\n",
    "        n_error = 0\n",
    "        for idx, x_i in enumerate(X):     \n",
    "            x_i = np.insert(x_i, 0, 1).reshape(-1,1)\n",
    "             #Se realiza la multiplicación punto por punto de la entrada y los pesos. \n",
    "            y_hat = step_func(np.dot(x_i.T, synaptic_weights))\n",
    "            # Actualizar error\n",
    "            if (np.squeeze(y_hat) - y[idx]) != 0:\n",
    "                synaptic_weights += lr*((y[idx] - y_hat)*x_i)\n",
    "                n_error += 1\n",
    "    n_error_list.append(n_error)            \n",
    "    print(\"synaptic_weights: \", synaptic_weights)\n",
    "    error_porcentual = (abs((len(X) - n_error_list[0]) - len(X)) / len(X)) * 100\n",
    "    print(\"Error porcentual: \", error_porcentual)\n",
    "    return synaptic_weights, error_porcentual\n"
   ]
  },
  {
   "cell_type": "markdown",
   "metadata": {},
   "source": [
    "## Se definen las funciones de activación para las capas ocultas y la de salida"
   ]
  },
  {
   "cell_type": "code",
   "execution_count": 9,
   "metadata": {},
   "outputs": [],
   "source": [
    "# activation function for output layer\n",
    "def linear(z, derivative=False):\n",
    "    a = z.copy()\n",
    "    if derivative:\n",
    "        da = np.ones(z.shape)\n",
    "        return a, da\n",
    "    return a\n",
    "def logistic(z, derivative=False):\n",
    "    a = 1/(1 + np.exp(-z))\n",
    "    if derivative:\n",
    "        da = np.ones(z.shape)\n",
    "        return a, da\n",
    "    return a\n",
    "def softmax(z, derivative=False):\n",
    "    e = np.exp(z - np.max(z, axis=0))\n",
    "    a = e / np.sum(e, axis=0)\n",
    "    if derivative:\n",
    "        da = np.ones(z.shape)\n",
    "        return a, da\n",
    "    return a\n",
    "# activation functions for hidden layers\n",
    "def tanh(z, derivative=False):\n",
    "    a = np.tanh(z)\n",
    "    if derivative:\n",
    "        da = (1 - a) * (1 + a)\n",
    "        return a, da\n",
    "    return a\n",
    "\n",
    "def relu(z, derivative=False):\n",
    "    a = np.tanh(z)\n",
    "    if derivative:\n",
    "        da = (1 - a) * (1 + a)\n",
    "        return a, da\n",
    "    return a\n",
    "\n",
    "def logistic_hidden(z, derivative=False):\n",
    "    a = 1/(1 + np.exp(-z))\n",
    "    if derivative:\n",
    "        da = a * (1 - a)\n",
    "        return a, da\n",
    "    return a"
   ]
  },
  {
   "cell_type": "markdown",
   "metadata": {},
   "source": [
    "## Se define la clase de la red de múltipes capas"
   ]
  },
  {
   "cell_type": "code",
   "execution_count": 10,
   "metadata": {},
   "outputs": [],
   "source": [
    "class MLP:\n",
    "    def __init__(self, layers_dims, hidden_activation=tanh, output_activation=logistic):\n",
    "        self.L = len(layers_dims) - 1\n",
    "        self.w = [None] * (self.L + 1)\n",
    "        self.b = [None] * (self.L + 1)\n",
    "        self.f = [None] * (self.L + 1)\n",
    "        # initialize weights\n",
    "        for l in range(1, self.L + 1):\n",
    "            self.w[l] = -1 + 2 * np.random.rand(layers_dims[l], layers_dims[l - 1])\n",
    "            self.b[l] = -1 + 2 * np.random.rand(layers_dims[l], 1)\n",
    "            if l == self.L:\n",
    "                self.f[l] = output_activation\n",
    "            else:\n",
    "                self.f[l] = hidden_activation\n",
    "    def predict(self, X):\n",
    "        a = np.asanyarray(X)\n",
    "        for l in range(1, self.L + 1):\n",
    "            z = np.dot(self.w[l], a) + self.b[l]\n",
    "            a = self.f[l](z)\n",
    "        return a\n",
    "    def train(self, X, Y, epochs=500, lr=0.1):\n",
    "        P = X.shape[1]\n",
    "        for _ in range(epochs):\n",
    "            for p in range(P):\n",
    "                # initialize activations\n",
    "                a = [None] * (self.L + 1)\n",
    "                da = [None] * (self.L + 1)\n",
    "                lg = [None] * (self.L + 1)\n",
    "                # propagation\n",
    "                a[0] = X[:,p].reshape(-1,1)\n",
    "                for l in range(1, self.L + 1):\n",
    "                    z = np.dot(self.w[l], a[l-1]) + self.b[l]\n",
    "                    a[l], da[l] = self.f[l](z, derivative=True)\n",
    "                # backpropagation\n",
    "                for l in range(self.L, 0, -1):\n",
    "                    if l == self.L:\n",
    "                        lg[l] = (Y[:,p].reshape(-1,1) - a[l]) * da[l]\n",
    "                    else:\n",
    "                        lg[l] = np.dot(self.w[l+1].T, lg[l + 1]) * da[l]\n",
    "                # gradient descent\n",
    "                for l in range(1, self.L + 1):\n",
    "                    self.w[l] += lr * np.dot(lg[l], a[l - 1].T)\n",
    "                    self.b[l] += lr * lg[l]"
   ]
  },
  {
   "cell_type": "markdown",
   "metadata": {},
   "source": [
    "-------------------------------"
   ]
  },
  {
   "cell_type": "markdown",
   "metadata": {},
   "source": [
    "# Ejercicio 1_2_1"
   ]
  },
  {
   "cell_type": "markdown",
   "metadata": {},
   "source": [
    "Usar el archivo spheres1d10.csv que contiene datos generados en base a la Tabla 1. Estos\n",
    "datos consideran alteraciones aleatorias (<10%), tal como se muestra en la Figura 1(a).\n",
    "Usando el perceptrón simple, crear cinco particiones de entrenamiento usando 80% de los\n",
    "datos y 20% para la generalización."
   ]
  },
  {
   "cell_type": "markdown",
   "metadata": {},
   "source": [
    "## Dataset"
   ]
  },
  {
   "cell_type": "code",
   "execution_count": 11,
   "metadata": {},
   "outputs": [],
   "source": [
    "spheres1d10_dataset  = np.genfromtxt('spheres1d10.csv', delimiter=',')"
   ]
  },
  {
   "cell_type": "code",
   "execution_count": 12,
   "metadata": {},
   "outputs": [],
   "source": [
    "X = spheres1d10_dataset[:,0:3]\n",
    "y = spheres1d10_dataset[:,3]"
   ]
  },
  {
   "cell_type": "code",
   "execution_count": 13,
   "metadata": {},
   "outputs": [
    {
     "data": {
      "text/plain": [
       "(1000, 3)"
      ]
     },
     "execution_count": 13,
     "metadata": {},
     "output_type": "execute_result"
    }
   ],
   "source": [
    "X.shape"
   ]
  },
  {
   "cell_type": "code",
   "execution_count": 14,
   "metadata": {},
   "outputs": [
    {
     "data": {
      "text/plain": [
       "(1000,)"
      ]
     },
     "execution_count": 14,
     "metadata": {},
     "output_type": "execute_result"
    }
   ],
   "source": [
    "y.shape"
   ]
  },
  {
   "cell_type": "code",
   "execution_count": 15,
   "metadata": {},
   "outputs": [
    {
     "data": {
      "text/plain": [
       "<mpl_toolkits.mplot3d.art3d.Path3DCollection at 0x7f51ddda8550>"
      ]
     },
     "execution_count": 15,
     "metadata": {},
     "output_type": "execute_result"
    },
    {
     "data": {
      "image/png": "[encoded data removed]",
      "text/plain": [
       "<Figure size 432x288 with 1 Axes>"
      ]
     },
     "metadata": {},
     "output_type": "display_data"
    }
   ],
   "source": [
    "ax = plt.axes(projection='3d')\n",
    "ax.scatter3D(X[:,0], X[:,1], X[:,2], c= y, cmap=\"brg\")"
   ]
  },
  {
   "cell_type": "markdown",
   "metadata": {},
   "source": [
    "## Perceptrón simple"
   ]
  },
  {
   "cell_type": "markdown",
   "metadata": {},
   "source": [
    "### Se define el número de divisiones para la validación cruzada de los datos"
   ]
  },
  {
   "cell_type": "code",
   "execution_count": 16,
   "metadata": {},
   "outputs": [
    {
     "name": "stdout",
     "output_type": "stream",
     "text": [
      "5\n",
      "KFold(n_splits=5, random_state=None, shuffle=True)\n"
     ]
    }
   ],
   "source": [
    "kf = KFold(n_splits=5, shuffle=True) # Define the split\n",
    "print(kf.get_n_splits(X)) # returns the number of splitting iterations in the cross-validator\n",
    "print(kf) "
   ]
  },
  {
   "cell_type": "markdown",
   "metadata": {},
   "source": [
    "### Se realiza el entrenamiento con cada división del dataset y se imprime el valor porcentual de cada uno así como el promedio"
   ]
  },
  {
   "cell_type": "code",
   "execution_count": 17,
   "metadata": {},
   "outputs": [
    {
     "name": "stdout",
     "output_type": "stream",
     "text": [
      "X_train shape:  (800, 3) y_train shape:  (800,)\n",
      "X_test shape:  (200, 3) y_test shape:  (200,)\n",
      "synaptic_weights:  [[-5036.       ]\n",
      " [-5076.9081325]\n",
      " [   14.8471645]\n",
      " [  -44.405576 ]]\n",
      "Error porcentual:  75.75\n",
      "synaptic_weights:  [[-5037.71000001]\n",
      " [-5078.4199852 ]\n",
      " [   14.2782145 ]\n",
      " [  -43.8229916 ]]\n",
      "Error porcentual:  75.5\n",
      "X_train shape:  (800, 3) y_train shape:  (800,)\n",
      "X_test shape:  (200, 3) y_test shape:  (200,)\n",
      "synaptic_weights:  [[-4.84920000e+03]\n",
      " [-4.86587232e+03]\n",
      " [-2.97331650e+00]\n",
      " [-1.51685575e+01]]\n",
      "Error porcentual:  76.375\n",
      "synaptic_weights:  [[-4.85079000e+03]\n",
      " [-4.86797345e+03]\n",
      " [-2.62435740e+00]\n",
      " [-1.55542495e+01]]\n",
      "Error porcentual:  73.0\n",
      "X_train shape:  (800, 3) y_train shape:  (800,)\n",
      "X_test shape:  (200, 3) y_test shape:  (200,)\n",
      "synaptic_weights:  [[-5172.35000001]\n",
      " [-5193.0363055 ]\n",
      " [  -18.2981535 ]\n",
      " [  -20.523776  ]]\n",
      "Error porcentual:  76.0\n",
      "synaptic_weights:  [[-5173.46000001]\n",
      " [-5194.8392926 ]\n",
      " [  -16.9609494 ]\n",
      " [  -20.7725708 ]]\n",
      "Error porcentual:  73.5\n",
      "X_train shape:  (800, 3) y_train shape:  (800,)\n",
      "X_test shape:  (200, 3) y_test shape:  (200,)\n",
      "synaptic_weights:  [[-5368.30000001]\n",
      " [-5400.8382875 ]\n",
      " [    5.6580005 ]\n",
      " [  -26.324045  ]]\n",
      "Error porcentual:  75.25\n",
      "synaptic_weights:  [[-5369.68000001]\n",
      " [-5401.8872708 ]\n",
      " [    5.5370435 ]\n",
      " [  -26.5171877 ]]\n",
      "Error porcentual:  73.0\n",
      "X_train shape:  (800, 3) y_train shape:  (800,)\n",
      "X_test shape:  (200, 3) y_test shape:  (200,)\n",
      "synaptic_weights:  [[-5085.6      ]\n",
      " [-5130.8838985]\n",
      " [   25.9218305]\n",
      " [  -42.627569 ]]\n",
      "Error porcentual:  73.25\n",
      "synaptic_weights:  [[-5087.43000001]\n",
      " [-5132.1517939 ]\n",
      " [   24.9412499 ]\n",
      " [  -42.3098777 ]]\n",
      "Error porcentual:  83.0\n",
      "Error porcentual of each fold - [75.5, 73.0, 73.5, 73.0, 83.0]\n",
      "Avg error porcentual : 75.6\n"
     ]
    }
   ],
   "source": [
    "list_error_porcentual = []\n",
    "for train_index, test_index in kf.split(X):\n",
    "    X_train, X_test = X[train_index], X[test_index]\n",
    "    y_train, y_test = y[train_index], y[test_index]\n",
    "    print(\"X_train shape: \", X_train.shape, \"y_train shape: \", y_train.shape)\n",
    "    print(\"X_test shape: \", X_test.shape, \"y_test shape: \", y_test.shape)\n",
    "    # train\n",
    "    synaptic_weights, error_porcentual = perceptron(X_train ,y_train, lr = 0.05, epochs = 500, pretrained= False)\n",
    "    # test\n",
    "    synaptic_weights, error_porcentual = perceptron(X_test,y_test, lr = 0.0001, epochs = 300, pretrained= True, pretrained_synaptic_weights = synaptic_weights)\n",
    "    list_error_porcentual.append(error_porcentual)\n",
    "\n",
    "avg_error_porcentual = sum(list_error_porcentual)/kf.get_n_splits(X)\n",
    "print('Error porcentual of each fold - {}'.format(list_error_porcentual))\n",
    "print('Avg error porcentual : {}'.format(avg_error_porcentual))"
   ]
  },
  {
   "cell_type": "markdown",
   "metadata": {},
   "source": [
    "## Perceptrón Multicapa"
   ]
  },
  {
   "cell_type": "markdown",
   "metadata": {},
   "source": [
    "### Se define el número de divisiones para la validación cruzada de los datos"
   ]
  },
  {
   "cell_type": "code",
   "execution_count": null,
   "metadata": {},
   "outputs": [],
   "source": [
    "kf = KFold(n_splits=5, shuffle=True) # Define the split\n",
    "print(kf.get_n_splits(X)) # returns the number of splitting iterations in the cross-validator\n",
    "print(kf) "
   ]
  },
  {
   "cell_type": "markdown",
   "metadata": {},
   "source": [
    "### Se realiza el entrenamiento con cada división del dataset y se imprime el valor porcentual de cada uno así como el promedio"
   ]
  },
  {
   "cell_type": "code",
   "execution_count": 60,
   "metadata": {},
   "outputs": [
    {
     "name": "stdout",
     "output_type": "stream",
     "text": [
      "X_train shape:  (3, 800) y_train shape:  (1, 800)\n",
      "X_test shape:  (3, 200) y_test shape:  (1, 200)\n"
     ]
    },
    {
     "name": "stderr",
     "output_type": "stream",
     "text": [
      "/tmp/ipykernel_25794/1495947191.py:9: RuntimeWarning: overflow encountered in exp\n",
      "  a = 1/(1 + np.exp(-z))\n"
     ]
    },
    {
     "name": "stdout",
     "output_type": "stream",
     "text": [
      "X_train shape:  (3, 800) y_train shape:  (1, 800)\n",
      "X_test shape:  (3, 200) y_test shape:  (1, 200)\n",
      "X_train shape:  (3, 800) y_train shape:  (1, 800)\n",
      "X_test shape:  (3, 200) y_test shape:  (1, 200)\n",
      "X_train shape:  (3, 800) y_train shape:  (1, 800)\n",
      "X_test shape:  (3, 200) y_test shape:  (1, 200)\n",
      "X_train shape:  (3, 800) y_train shape:  (1, 800)\n",
      "X_test shape:  (3, 200) y_test shape:  (1, 200)\n",
      "Error porcentual of each fold - [0.0, 0.0, 0.0, 12.0, 0.0]\n",
      "Avg error porcentual : 2.4\n"
     ]
    }
   ],
   "source": [
    "list_error_porcentual = []\n",
    "for train_index, test_index in kf.split(X):\n",
    "    X_train, X_test = X[train_index], X[test_index]\n",
    "    y_train, y_test = y[train_index], y[test_index]\n",
    "    X_train = X_train.T\n",
    "    X_test = X_test.T\n",
    "    y_train = np.expand_dims(y_train, axis=0)\n",
    "    y_test = np.expand_dims(y_test, axis=0)\n",
    "\n",
    "    print(\"X_train shape: \", X_train.shape, \"y_train shape: \", y_train.shape)\n",
    "    print(\"X_test shape: \", X_test.shape, \"y_test shape: \", y_test.shape)\n",
    "    # train\n",
    "    net = MLP((3,200,1),hidden_activation = relu, output_activation = logistic)\n",
    "    net.train(X_train, y_train,  epochs=1000, lr=0.01)\n",
    "    # test\n",
    "    y_pred = net.predict(X_test)\n",
    "    y_pred = np.where(y_pred == 0., -1., y_pred)\n",
    "    y_pred = np.where(y_pred > 0, 1., y_pred)\n",
    "    aprox = (y_test == y_pred).sum()\n",
    "    error_porcentual = (abs(aprox - y_test.shape[1])/ y_test.shape[1])*100\n",
    "    list_error_porcentual.append(error_porcentual)\n",
    "\n",
    "avg_error_porcentual = sum(list_error_porcentual)/kf.get_n_splits(X)\n",
    "print('Error porcentual of each fold - {}'.format(list_error_porcentual))\n",
    "print('Avg error porcentual : {}'.format(avg_error_porcentual))"
   ]
  },
  {
   "cell_type": "markdown",
   "metadata": {},
   "source": [
    "# Ejercicio 1_2_2"
   ]
  },
  {
   "cell_type": "markdown",
   "metadata": {},
   "source": [
    "Considerando la Tabla 1, modificar el punto x=[-1, +1, -1] → yd = 1. Con esto se genera un\n",
    "nuevo dataset. Los archivos spheres2d10.csv, spheres2d50.csv y spheres2d70.csv contienen\n",
    "los datos perturbados en un 10%, 50% y 70% y se presentan en las Figuras 1 (b), (c), (d).\n",
    "mediante el perceptrón simple realizar una clasificación con 10 particiones usando 80% de\n",
    "los datos y 20% para la generalización."
   ]
  },
  {
   "cell_type": "markdown",
   "metadata": {},
   "source": [
    "## Dataset\n"
   ]
  },
  {
   "cell_type": "code",
   "execution_count": 5,
   "metadata": {},
   "outputs": [],
   "source": [
    "spheres2d10_dataset  = np.genfromtxt('spheres2d10.csv', delimiter=',')\n",
    "spheres2d50_dataset  = np.genfromtxt('spheres2d50.csv', delimiter=',')\n",
    "spheres2d70_dataset  = np.genfromtxt('spheres2d70.csv', delimiter=',')"
   ]
  },
  {
   "cell_type": "markdown",
   "metadata": {},
   "source": [
    "### Se concatenan los datasets"
   ]
  },
  {
   "cell_type": "code",
   "execution_count": 6,
   "metadata": {},
   "outputs": [],
   "source": [
    "spheres_dataset = np.concatenate((spheres2d10_dataset,spheres2d50_dataset,spheres2d70_dataset)) "
   ]
  },
  {
   "cell_type": "code",
   "execution_count": 7,
   "metadata": {},
   "outputs": [],
   "source": [
    "X = spheres_dataset[:,0:3]\n",
    "y = spheres_dataset[:,3]"
   ]
  },
  {
   "cell_type": "code",
   "execution_count": 8,
   "metadata": {},
   "outputs": [
    {
     "data": {
      "text/plain": [
       "(15000, 3)"
      ]
     },
     "execution_count": 8,
     "metadata": {},
     "output_type": "execute_result"
    }
   ],
   "source": [
    "X.shape"
   ]
  },
  {
   "cell_type": "code",
   "execution_count": 9,
   "metadata": {},
   "outputs": [
    {
     "data": {
      "text/plain": [
       "(15000,)"
      ]
     },
     "execution_count": 9,
     "metadata": {},
     "output_type": "execute_result"
    }
   ],
   "source": [
    "y.shape"
   ]
  },
  {
   "cell_type": "code",
   "execution_count": 10,
   "metadata": {},
   "outputs": [
    {
     "data": {
      "text/plain": [
       "<mpl_toolkits.mplot3d.art3d.Path3DCollection at 0x7f6258aabe20>"
      ]
     },
     "execution_count": 10,
     "metadata": {},
     "output_type": "execute_result"
    },
    {
     "data": {
      "image/png": "[encoded data removed]",
      "text/plain": [
       "<Figure size 432x288 with 1 Axes>"
      ]
     },
     "metadata": {},
     "output_type": "display_data"
    }
   ],
   "source": [
    "ax = plt.axes(projection='3d')\n",
    "ax.scatter3D(X[:,0], X[:,1], X[:,2], c= y, cmap=\"brg\")"
   ]
  },
  {
   "cell_type": "markdown",
   "metadata": {},
   "source": [
    "## Perceptrón simple"
   ]
  },
  {
   "cell_type": "markdown",
   "metadata": {},
   "source": [
    "### Se define el número de divisiones para la validación cruzada de los datos"
   ]
  },
  {
   "cell_type": "code",
   "execution_count": 15,
   "metadata": {},
   "outputs": [
    {
     "name": "stdout",
     "output_type": "stream",
     "text": [
      "10\n",
      "KFold(n_splits=10, random_state=None, shuffle=True)\n"
     ]
    }
   ],
   "source": [
    "kf = KFold(n_splits=10, shuffle=True) # Define the split\n",
    "print(kf.get_n_splits(X)) # returns the number of splitting iterations in the cross-validator\n",
    "print(kf) "
   ]
  },
  {
   "cell_type": "markdown",
   "metadata": {},
   "source": [
    "### Se realiza el entrenamiento con cada división del dataset y se imprime el valor porcentual de cada uno así como el promedio"
   ]
  },
  {
   "cell_type": "code",
   "execution_count": 17,
   "metadata": {},
   "outputs": [
    {
     "name": "stdout",
     "output_type": "stream",
     "text": [
      "X_train shape:  (13500, 3) y_train shape:  (13500,)\n",
      "X_test shape:  (1500, 3) y_test shape:  (1500,)\n",
      "synaptic_weights:  [[ -47397.00000051]\n",
      " [-119981.62732551]\n",
      " [  43718.20842449]\n",
      " [ -50053.60219294]]\n",
      "Error porcentual:  61.20740740740741\n",
      "synaptic_weights:  [[ -47401.83000039]\n",
      " [-119996.38809685]\n",
      " [  43724.27254257]\n",
      " [ -50058.6495237 ]]\n",
      "Error porcentual:  58.599999999999994\n",
      "X_train shape:  (13500, 3) y_train shape:  (13500,)\n",
      "X_test shape:  (1500, 3) y_test shape:  (1500,)\n",
      "synaptic_weights:  [[ -46337.40000045]\n",
      " [-118778.28081953]\n",
      " [  43259.956681  ]\n",
      " [ -49027.97513843]]\n",
      "Error porcentual:  60.72592592592593\n",
      "synaptic_weights:  [[ -46343.85000029]\n",
      " [-118794.10843159]\n",
      " [  43266.86710868]\n",
      " [ -49034.57267602]]\n",
      "Error porcentual:  62.06666666666667\n",
      "X_train shape:  (13500, 3) y_train shape:  (13500,)\n",
      "X_test shape:  (1500, 3) y_test shape:  (1500,)\n",
      "synaptic_weights:  [[ -45826.65000042]\n",
      " [-118282.28901195]\n",
      " [  44753.24124799]\n",
      " [ -48296.07400195]]\n",
      "Error porcentual:  60.95555555555555\n",
      "synaptic_weights:  [[ -45833.34000025]\n",
      " [-118299.11837869]\n",
      " [  44757.82628631]\n",
      " [ -48303.39533661]]\n",
      "Error porcentual:  60.86666666666667\n",
      "X_train shape:  (13500, 3) y_train shape:  (13500,)\n",
      "X_test shape:  (1500, 3) y_test shape:  (1500,)\n",
      "synaptic_weights:  [[ -45542.45000041]\n",
      " [-118309.958244  ]\n",
      " [  42789.98836448]\n",
      " [ -49244.73754296]]\n",
      "Error porcentual:  60.60740740740741\n",
      "synaptic_weights:  [[ -45549.98000022]\n",
      " [-118326.21495777]\n",
      " [  42797.58913266]\n",
      " [ -49251.16732025]]\n",
      "Error porcentual:  62.866666666666674\n",
      "X_train shape:  (13500, 3) y_train shape:  (13500,)\n",
      "X_test shape:  (1500, 3) y_test shape:  (1500,)\n",
      "synaptic_weights:  [[ -46477.75000046]\n",
      " [-119151.72150551]\n",
      " [  44497.18501199]\n",
      " [ -48548.09909796]]\n",
      "Error porcentual:  61.01481481481481\n",
      "synaptic_weights:  [[ -46483.69000031]\n",
      " [-119167.43428448]\n",
      " [  44502.19875446]\n",
      " [ -48555.15561609]]\n",
      "Error porcentual:  60.266666666666666\n",
      "X_train shape:  (13500, 3) y_train shape:  (13500,)\n",
      "X_test shape:  (1500, 3) y_test shape:  (1500,)\n",
      "synaptic_weights:  [[ -46796.70000048]\n",
      " [-119107.42371747]\n",
      " [  43558.707895  ]\n",
      " [ -49735.02818993]]\n",
      "Error porcentual:  60.874074074074066\n",
      "synaptic_weights:  [[ -46802.25000034]\n",
      " [-119123.23975974]\n",
      " [  43564.93697141]\n",
      " [ -49740.46641475]]\n",
      "Error porcentual:  61.53333333333333\n",
      "X_train shape:  (13500, 3) y_train shape:  (13500,)\n",
      "X_test shape:  (1500, 3) y_test shape:  (1500,)\n",
      "synaptic_weights:  [[ -47067.0500005 ]\n",
      " [-119731.87365403]\n",
      " [  43946.1633605 ]\n",
      " [ -48428.91604645]]\n",
      "Error porcentual:  60.96296296296296\n",
      "synaptic_weights:  [[ -47072.54000036]\n",
      " [-119746.55965213]\n",
      " [  43952.18770037]\n",
      " [ -48436.36315791]]\n",
      "Error porcentual:  60.199999999999996\n",
      "X_train shape:  (13500, 3) y_train shape:  (13500,)\n",
      "X_test shape:  (1500, 3) y_test shape:  (1500,)\n",
      "synaptic_weights:  [[ -46200.35000045]\n",
      " [-119008.62191802]\n",
      " [  44854.86324149]\n",
      " [ -49397.94565544]]\n",
      "Error porcentual:  60.977777777777774\n",
      "synaptic_weights:  [[ -46206.53000029]\n",
      " [-119024.72934013]\n",
      " [  44859.22793246]\n",
      " [ -49403.72951836]]\n",
      "Error porcentual:  60.8\n",
      "X_train shape:  (13500, 3) y_train shape:  (13500,)\n",
      "X_test shape:  (1500, 3) y_test shape:  (1500,)\n",
      "synaptic_weights:  [[ -45769.35000042]\n",
      " [-117879.977542  ]\n",
      " [  43744.310899  ]\n",
      " [ -48799.20835194]]\n",
      "Error porcentual:  60.711111111111116\n",
      "synaptic_weights:  [[ -45776.19000025]\n",
      " [-117897.19196737]\n",
      " [  43750.30633028]\n",
      " [ -48805.90465166]]\n",
      "Error porcentual:  62.93333333333333\n",
      "X_train shape:  (13500, 3) y_train shape:  (13500,)\n",
      "X_test shape:  (1500, 3) y_test shape:  (1500,)\n",
      "synaptic_weights:  [[ -46389.55000046]\n",
      " [-119190.94872151]\n",
      " [  44131.99376949]\n",
      " [ -48291.12285595]]\n",
      "Error porcentual:  61.088888888888896\n",
      "synaptic_weights:  [[ -46395.8500003 ]\n",
      " [-119206.33821958]\n",
      " [  44137.71729131]\n",
      " [ -48298.67480307]]\n",
      "Error porcentual:  59.06666666666667\n",
      "Error porcentual of each fold - [58.599999999999994, 62.06666666666667, 60.86666666666667, 62.866666666666674, 60.266666666666666, 61.53333333333333, 60.199999999999996, 60.8, 62.93333333333333, 59.06666666666667]\n",
      "Avg error porcentual : 60.92\n"
     ]
    }
   ],
   "source": [
    "list_error_porcentual = []\n",
    "for train_index, test_index in kf.split(X):\n",
    "    X_train, X_test = X[train_index], X[test_index]\n",
    "    y_train, y_test = y[train_index], y[test_index]\n",
    "    print(\"X_train shape: \", X_train.shape, \"y_train shape: \", y_train.shape)\n",
    "    print(\"X_test shape: \", X_test.shape, \"y_test shape: \", y_test.shape)\n",
    "    # train\n",
    "    synaptic_weights, error_porcentual = perceptron(X_train ,y_train, lr = 0.05, epochs = 500, pretrained= False)\n",
    "    # test\n",
    "    synaptic_weights, error_porcentual = perceptron(X_test,y_test, lr = 0.0001, epochs = 300, pretrained= True, pretrained_synaptic_weights = synaptic_weights)\n",
    "    list_error_porcentual.append(error_porcentual)\n",
    "\n",
    "avg_error_porcentual = sum(list_error_porcentual)/kf.get_n_splits(X)\n",
    "print('Error porcentual of each fold - {}'.format(list_error_porcentual))\n",
    "print('Avg error porcentual : {}'.format(avg_error_porcentual))"
   ]
  },
  {
   "cell_type": "markdown",
   "metadata": {},
   "source": [
    "## Perceptrón Multicapa"
   ]
  },
  {
   "cell_type": "markdown",
   "metadata": {},
   "source": [
    "### Se define el número de divisiones para la validación cruzada de los datos"
   ]
  },
  {
   "cell_type": "code",
   "execution_count": 11,
   "metadata": {},
   "outputs": [
    {
     "name": "stdout",
     "output_type": "stream",
     "text": [
      "10\n",
      "KFold(n_splits=10, random_state=None, shuffle=True)\n"
     ]
    }
   ],
   "source": [
    "kf = KFold(n_splits=10, shuffle=True) # Define the split\n",
    "print(kf.get_n_splits(X)) # returns the number of splitting iterations in the cross-validator\n",
    "print(kf) "
   ]
  },
  {
   "cell_type": "markdown",
   "metadata": {},
   "source": [
    "### Se realiza el entrenamiento con cada división del dataset y se imprime el valor porcentual de cada uno así como el promedio"
   ]
  },
  {
   "cell_type": "code",
   "execution_count": 13,
   "metadata": {},
   "outputs": [
    {
     "name": "stdout",
     "output_type": "stream",
     "text": [
      "X_train shape:  (3, 13500) y_train shape:  (1, 13500)\n",
      "X_test shape:  (3, 1500) y_test shape:  (1, 1500)\n"
     ]
    },
    {
     "name": "stderr",
     "output_type": "stream",
     "text": [
      "/tmp/ipykernel_13523/1495947191.py:9: RuntimeWarning: overflow encountered in exp\n",
      "  a = 1/(1 + np.exp(-z))\n"
     ]
    },
    {
     "name": "stdout",
     "output_type": "stream",
     "text": [
      "X_train shape:  (3, 13500) y_train shape:  (1, 13500)\n",
      "X_test shape:  (3, 1500) y_test shape:  (1, 1500)\n",
      "X_train shape:  (3, 13500) y_train shape:  (1, 13500)\n",
      "X_test shape:  (3, 1500) y_test shape:  (1, 1500)\n",
      "X_train shape:  (3, 13500) y_train shape:  (1, 13500)\n",
      "X_test shape:  (3, 1500) y_test shape:  (1, 1500)\n",
      "X_train shape:  (3, 13500) y_train shape:  (1, 13500)\n",
      "X_test shape:  (3, 1500) y_test shape:  (1, 1500)\n",
      "X_train shape:  (3, 13500) y_train shape:  (1, 13500)\n",
      "X_test shape:  (3, 1500) y_test shape:  (1, 1500)\n",
      "X_train shape:  (3, 13500) y_train shape:  (1, 13500)\n",
      "X_test shape:  (3, 1500) y_test shape:  (1, 1500)\n",
      "X_train shape:  (3, 13500) y_train shape:  (1, 13500)\n",
      "X_test shape:  (3, 1500) y_test shape:  (1, 1500)\n",
      "X_train shape:  (3, 13500) y_train shape:  (1, 13500)\n",
      "X_test shape:  (3, 1500) y_test shape:  (1, 1500)\n",
      "X_train shape:  (3, 13500) y_train shape:  (1, 13500)\n",
      "X_test shape:  (3, 1500) y_test shape:  (1, 1500)\n",
      "Error porcentual of each fold - [0.33333333333333337, 1.0666666666666667, 0.5333333333333333, 1.3333333333333335, 0.46666666666666673, 1.3333333333333335, 0.8, 0.33333333333333337, 0.26666666666666666, 0.2]\n",
      "Avg error porcentual : 0.6666666666666666\n"
     ]
    }
   ],
   "source": [
    "list_error_porcentual = []\n",
    "for train_index, test_index in kf.split(X):\n",
    "    X_train, X_test = X[train_index], X[test_index]\n",
    "    y_train, y_test = y[train_index], y[test_index]\n",
    "    X_train = X_train.T\n",
    "    X_test = X_test.T\n",
    "    y_train = np.expand_dims(y_train, axis=0)\n",
    "    y_test = np.expand_dims(y_test, axis=0)\n",
    "\n",
    "    print(\"X_train shape: \", X_train.shape, \"y_train shape: \", y_train.shape)\n",
    "    print(\"X_test shape: \", X_test.shape, \"y_test shape: \", y_test.shape)\n",
    "    # train\n",
    "    net = MLP((3,5,1),hidden_activation = relu, output_activation = logistic)    # test\n",
    "    net.train(X_train, y_train,  epochs=1000, lr=0.01)\n",
    "    # test\n",
    "    y_pred = net.predict(X_test)\n",
    "    y_pred = np.where(y_pred == 0., -1., y_pred)\n",
    "    y_pred = np.where(y_pred > 0, 1., y_pred)\n",
    "    aprox = (y_test == y_pred).sum()\n",
    "    error_porcentual = (abs(aprox - y_test.shape[1])/ y_test.shape[1])*100\n",
    "    list_error_porcentual.append(error_porcentual)\n",
    "\n",
    "avg_error_porcentual = sum(list_error_porcentual)/kf.get_n_splits(X)\n",
    "print('Error porcentual of each fold - {}'.format(list_error_porcentual))\n",
    "print('Avg error porcentual : {}'.format(avg_error_porcentual))"
   ]
  },
  {
   "cell_type": "markdown",
   "metadata": {},
   "source": [
    "## Conclusiones"
   ]
  },
  {
   "cell_type": "markdown",
   "metadata": {},
   "source": [
    "Al utilizar datastes de 3 dimensiones no separables linealmente, pude observar el mismo rendimiento que con 2 dimensiones de la práctica pasada. La red de una sola capa solamente fue capaz de clasificar correctamente con un promedio de 60% de error con diferentes configuraciones. En comparación con una red de múltiples capas no fue necesario aumentar la complejidad de los hiperparámetros porque no mejoraba más el error porcentual. \n",
    "\n",
    "En cada iteración, aunque el modelo tuviera la misma configuración, si variaba el error porcentual. Como los pesos sinápticos se están modificando en cada iteración, es fácil corroborar que el error va disminuyendo, pero en algunos casos aumento también, El último ejemplo empezó en 0.33%, el error más alto fue de 1.33% y el más bajo además del último fue de 0.2%. Esto significa que es importante durante la evaluación corroborar el rendimiento con diferentes sets del dataset para evitar el sobre entrenamiento, y de analizar porque se comporta diferente con la variedad de los datos."
   ]
  },
  {
   "cell_type": "markdown",
   "metadata": {},
   "source": []
  }
 ],
 "metadata": {
  "interpreter": {
   "hash": "a260e626cb77863c67c5468b270d37366524e20894372c632ae8c99a6a196644"
  },
  "kernelspec": {
   "display_name": "Python 3.9.7 ('base')",
   "language": "python",
   "name": "python3"
  },
  "language_info": {
   "codemirror_mode": {
    "name": "ipython",
    "version": 3
   },
   "file_extension": ".py",
   "mimetype": "text/x-python",
   "name": "python",
   "nbconvert_exporter": "python",
   "pygments_lexer": "ipython3",
   "version": "3.9.7"
  },
  "orig_nbformat": 4
 },
 "nbformat": 4,
 "nbformat_minor": 2
}
