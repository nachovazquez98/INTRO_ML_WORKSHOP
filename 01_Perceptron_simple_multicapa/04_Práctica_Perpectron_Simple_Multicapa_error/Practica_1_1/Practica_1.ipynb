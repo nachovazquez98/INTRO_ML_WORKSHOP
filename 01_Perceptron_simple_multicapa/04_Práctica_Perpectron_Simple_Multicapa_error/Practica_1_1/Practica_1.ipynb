{
 "cells": [
  {
   "cell_type": "markdown",
   "metadata": {},
   "source": [
    "* Universidad de Guadalajara\n",
    "* Centro Universitario de Ciencias Exactas e Ingenierías\n",
    "* Seminario de Solución de Problemas de Inteligencia Artificial II\n",
    "* Profesor Dr. Diego Oliva\n",
    "* Depto. De Ciencias Computacionales\n",
    "* Ignacio David Vázquez Perez\n",
    "* 218292866"
   ]
  },
  {
   "cell_type": "code",
   "execution_count": 2,
   "metadata": {},
   "outputs": [],
   "source": [
    "import numpy as np\n",
    "import random\n",
    "import numpy as np\n",
    "import pandas as pd\n",
    "from mpl_toolkits.mplot3d import Axes3D  \n",
    "import matplotlib.pyplot as plt\n",
    "from sklearn.preprocessing import StandardScaler\n",
    "from sklearn.model_selection import train_test_split\n",
    "import seaborn as sns; sns.set()\n",
    "from sklearn import metrics "
   ]
  },
  {
   "cell_type": "code",
   "execution_count": 10,
   "metadata": {},
   "outputs": [],
   "source": [
    "def step_func(z):\n",
    "        return 1.0 if (z > 0) else 0.0\n",
    "def perceptron(X, y, lr, epochs, pretrained = None, pretrained_synaptic_weights = None):\n",
    "    m, n = X.shape\n",
    "    #Se crea en vector de pesos de la neurona \n",
    "    # con valores aleatorios y bias\n",
    "    if pretrained == False:\n",
    "        synaptic_weights = np.zeros((n+1,1))\n",
    "    elif pretrained != False:\n",
    "        synaptic_weights = pretrained_synaptic_weights.copy()\n",
    "    n_error_list = []\n",
    "    #El algoritmo de entrenamiento se ejecuta por el total de iteraciones\n",
    "    for epoch in range(epochs):\n",
    "        n_error = 0\n",
    "        for idx, x_i in enumerate(X):     \n",
    "            x_i = np.insert(x_i, 0, 1).reshape(-1,1)\n",
    "             #Se realiza la multiplicación punto por punto de la entrada y los pesos. \n",
    "            y_hat = step_func(np.dot(x_i.T, synaptic_weights))\n",
    "            # Actualizar error\n",
    "            if (np.squeeze(y_hat) - y[idx]) != 0:\n",
    "                synaptic_weights += lr*((y[idx] - y_hat)*x_i)\n",
    "                n_error += 1\n",
    "    n_error_list.append(n_error)            \n",
    "    print(\"synaptic_weights: \", synaptic_weights)\n",
    "    print(\"Error porcentual: \", (abs((len(X) - n_error_list[0]) - len(X)) / len(X)) * 100)\n",
    "    return synaptic_weights, n_error_list\n",
    "    \n",
    "def plot_perceptron(X, theta, y):   \n",
    "    # y=mx+c\n",
    "    # mx+c = theta0.X0 + theta1.X1 + theta2.X2\n",
    "    x1 = [min(X[:,0]), max(X[:,0])]\n",
    "    m = -theta[1]/theta[2]\n",
    "    c = -theta[0]/theta[2]\n",
    "    x2 = m*x1 + c\n",
    "    \n",
    "    # Plotting\n",
    "    fig = plt.figure(figsize=(10,8))\n",
    "    plt.plot(X[:, 0][y==-1], X[:, 1][y==-1], \"r^\")\n",
    "    plt.plot(X[:, 0][y==1], X[:, 1][y==1], \"bs\")\n",
    "    plt.title('Algoritmo de perceptron')\n",
    "    plt.plot(x1, x2, 'y-')"
   ]
  },
  {
   "cell_type": "code",
   "execution_count": 11,
   "metadata": {},
   "outputs": [],
   "source": [
    "# activation function for output layer\n",
    "def linear(z, derivative=False):\n",
    "    a = z.copy()\n",
    "    if derivative:\n",
    "        da = np.ones(z.shape)\n",
    "        return a, da\n",
    "    return a\n",
    "def logistic(z, derivative=False):\n",
    "    a = 1/(1 + np.exp(-z))\n",
    "    if derivative:\n",
    "        da = np.ones(z.shape)\n",
    "        return a, da\n",
    "    return a\n",
    "def softmax(z, derivative=False):\n",
    "    e = np.exp(z - np.max(z, axis=0))\n",
    "    a = e / np.sum(e, axis=0)\n",
    "    if derivative:\n",
    "        da = np.ones(z.shape)\n",
    "        return a, da\n",
    "    return a\n",
    "# activation functions for hidden layers\n",
    "def tanh(z, derivative=False):\n",
    "    a = np.tanh(z)\n",
    "    if derivative:\n",
    "        da = (1 - a) * (1 + a)\n",
    "        return a, da\n",
    "    return a\n",
    "\n",
    "def relu(z, derivative=False):\n",
    "    a = np.tanh(z)\n",
    "    if derivative:\n",
    "        da = (1 - a) * (1 + a)\n",
    "        return a, da\n",
    "    return a\n",
    "\n",
    "def logistic_hidden(z, derivative=False):\n",
    "    a = 1/(1 + np.exp(-z))\n",
    "    if derivative:\n",
    "        da = a * (1 - a)\n",
    "        return a, da\n",
    "    return a"
   ]
  },
  {
   "cell_type": "code",
   "execution_count": 12,
   "metadata": {},
   "outputs": [],
   "source": [
    "class MLP:\n",
    "    def __init__(self, layers_dims, hidden_activation=tanh, output_activation=logistic):\n",
    "        self.L = len(layers_dims) - 1\n",
    "        self.w = [None] * (self.L + 1)\n",
    "        self.b = [None] * (self.L + 1)\n",
    "        self.f = [None] * (self.L + 1)\n",
    "        # initialize weights\n",
    "        for l in range(1, self.L + 1):\n",
    "            self.w[l] = -1 + 2 * np.random.rand(layers_dims[l], layers_dims[l - 1])\n",
    "            self.b[l] = -1 + 2 * np.random.rand(layers_dims[l], 1)\n",
    "            if l == self.L:\n",
    "                self.f[l] = output_activation\n",
    "            else:\n",
    "                self.f[l] = hidden_activation\n",
    "    def predict(self, X):\n",
    "        a = np.asanyarray(X)\n",
    "        for l in range(1, self.L + 1):\n",
    "            z = np.dot(self.w[l], a) + self.b[l]\n",
    "            a = self.f[l](z)\n",
    "        return a\n",
    "    def train(self, X, Y, epochs=500, lr=0.1):\n",
    "        P = X.shape[1]\n",
    "        for _ in range(epochs):\n",
    "            for p in range(P):\n",
    "                # initialize activations\n",
    "                a = [None] * (self.L + 1)\n",
    "                da = [None] * (self.L + 1)\n",
    "                lg = [None] * (self.L + 1)\n",
    "                # propagation\n",
    "                a[0] = X[:,p].reshape(-1,1)\n",
    "                for l in range(1, self.L + 1):\n",
    "                    z = np.dot(self.w[l], a[l-1]) + self.b[l]\n",
    "                    a[l], da[l] = self.f[l](z, derivative=True)\n",
    "                # backpropagation\n",
    "                for l in range(self.L, 0, -1):\n",
    "                    if l == self.L:\n",
    "                        lg[l] = (Y[:,p].reshape(-1,1) - a[l]) * da[l]\n",
    "                    else:\n",
    "                        lg[l] = np.dot(self.w[l+1].T, lg[l + 1]) * da[l]\n",
    "                # gradient descent\n",
    "                for l in range(1, self.L + 1):\n",
    "                    self.w[l] += lr * np.dot(lg[l], a[l - 1].T)\n",
    "                    self.b[l] += lr * lg[l]"
   ]
  },
  {
   "cell_type": "code",
   "execution_count": 13,
   "metadata": {},
   "outputs": [],
   "source": [
    "def MLP_binary_classification_2d(X,Y,net):\n",
    "    plt.figure()\n",
    "    for i in range(X.shape[1]):\n",
    "        if Y[0,i]==1:\n",
    "            plt.plot(X[0,i], X[1,i], '.r')\n",
    "        else:\n",
    "            plt.plot(X[0,i], X[1,i], '.b')\n",
    "    xmin, ymin=np.min(X[0,:])-0.5, np.min(X[1,:])-0.5\n",
    "    xmax, ymax=np.max(X[0,:])+0.5, np.max(X[1,:])+0.5\n",
    "    xx, yy = np.meshgrid(np.linspace(xmin,xmax, 100), \n",
    "                         np.linspace(ymin,ymax, 100))\n",
    "    data = [xx.ravel(), yy.ravel()]\n",
    "    zz = net.predict(data)\n",
    "    zz = zz.reshape(xx.shape)\n",
    "    plt.contourf(xx,yy,zz, alpha=0.8, \n",
    "                 cmap=plt.cm.RdBu)\n",
    "    plt.xlim([xmin,xmax])\n",
    "    plt.ylim([ymin,ymax])\n",
    "    plt.grid()\n",
    "    plt.show()"
   ]
  },
  {
   "cell_type": "markdown",
   "metadata": {},
   "source": [
    "# Practica 1\n",
    "## Perceptrón Simple y Multicapa"
   ]
  },
  {
   "cell_type": "markdown",
   "metadata": {},
   "source": [
    "1. Objetivos\n",
    "* Aplicar diferentes arquitecturas de redes neuronales a la clasificación automática de datos reales.\n",
    "* Verificar experimentalmente las limitaciones del método de separación por hiperplanos.\n",
    "* Profundizar en los conceptos teóricos relacionados con la retro-propagación del error.\n",
    "* Implementar un algoritmo de entrenamiento para el perceptrón multicapa y analizar su desempeño.\n",
    "* Utilizar diferentes técnicas de validación cruzada y valorar su importancia."
   ]
  },
  {
   "cell_type": "markdown",
   "metadata": {},
   "source": [
    "2. Actividades\n",
    "\n",
    "**Ejercicio 1**:\n",
    "Realice un programa que permita el entrenamiento y prueba de un perceptrón simple\n",
    "con una cantidad variable de entradas. El programa debe realizar lo siguiente:\n",
    "- Lectura de los patrones de entrenamiento (entradas y salidas) desde un archivo en formato\n",
    "texto separado por comas.\n",
    "- Selección del criterio de finalización del entrenamiento.\n",
    "- Selección del número máximo de épocas de entrenamiento.\n",
    "- Selección de la tasa de aprendizaje.\n",
    "- Prueba del perceptrón entrenado en datos reales.\n",
    "\n",
    "Una vez que se generó el programa, debe ser probado considerando lo siguiente:\n",
    "1. Problema XOR. Los patrones para este problema son los puntos (1,1), (1,-1), (-1,1), (-1,-1).\n",
    "Además, deben considerarse alteraciones aleatorias (< 5%). Se debe generar un set de\n",
    "entrenamiento y otro de prueba. Utilizar los archivos XORtrn.csv y XORtst.csv\n",
    "2. Mostrar gráficamente los patrones utilizado y la recta que los separa."
   ]
  },
  {
   "cell_type": "markdown",
   "metadata": {},
   "source": [
    "### Generación de dataset"
   ]
  },
  {
   "cell_type": "code",
   "execution_count": 7,
   "metadata": {},
   "outputs": [],
   "source": [
    "train_dataset  = np.genfromtxt('XOR_trn.csv', delimiter=',')\n",
    "test_dataset = np.genfromtxt('XOR_tst.csv', delimiter=',')"
   ]
  },
  {
   "cell_type": "code",
   "execution_count": 8,
   "metadata": {},
   "outputs": [],
   "source": [
    "X_train = train_dataset[:,0:2]\n",
    "y_train = train_dataset[:,2]\n",
    "X_test = test_dataset[:,0:2]\n",
    "y_test = test_dataset[:,2]"
   ]
  },
  {
   "cell_type": "code",
   "execution_count": 9,
   "metadata": {},
   "outputs": [
    {
     "data": {
      "text/plain": [
       "array([[-1.0291 ,  0.97256],\n",
       "       [ 1.0325 , -1.0188 ],\n",
       "       [ 1.0261 ,  1.0343 ],\n",
       "       ...,\n",
       "       [ 0.98116, -0.99778],\n",
       "       [-1.0046 , -0.99967],\n",
       "       [-1.     ,  0.98807]])"
      ]
     },
     "execution_count": 9,
     "metadata": {},
     "output_type": "execute_result"
    }
   ],
   "source": [
    "X_train"
   ]
  },
  {
   "cell_type": "markdown",
   "metadata": {},
   "source": [
    "### Graficar el dataset de entrenamiento"
   ]
  },
  {
   "cell_type": "code",
   "execution_count": 7,
   "metadata": {},
   "outputs": [
    {
     "data": {
      "text/plain": [
       "<matplotlib.collections.PathCollection at 0x7fc22e49aa60>"
      ]
     },
     "execution_count": 7,
     "metadata": {},
     "output_type": "execute_result"
    },
    {
     "data": {
      "image/png": "[encoded data removed]",
      "text/plain": [
       "<Figure size 720x576 with 1 Axes>"
      ]
     },
     "metadata": {},
     "output_type": "display_data"
    }
   ],
   "source": [
    "fig = plt.figure(figsize=(10,8))\n",
    "plt.scatter(train_dataset[:, 0][train_dataset[:,2]==-1], train_dataset[:, 1][train_dataset[:,2]==-1])\n",
    "plt.scatter(train_dataset[:, 0][train_dataset[:,2]==1], train_dataset[:, 1][train_dataset[:,2]==1])"
   ]
  },
  {
   "cell_type": "markdown",
   "metadata": {},
   "source": [
    "### Graficar el dataset de validación"
   ]
  },
  {
   "cell_type": "code",
   "execution_count": 191,
   "metadata": {},
   "outputs": [
    {
     "data": {
      "text/plain": [
       "<matplotlib.collections.PathCollection at 0x7fa058ccee20>"
      ]
     },
     "execution_count": 191,
     "metadata": {},
     "output_type": "execute_result"
    },
    {
     "data": {
      "image/png": "[encoded data removed]",
      "text/plain": [
       "<Figure size 720x576 with 1 Axes>"
      ]
     },
     "metadata": {},
     "output_type": "display_data"
    }
   ],
   "source": [
    "# Plotting\n",
    "fig = plt.figure(figsize=(10,8))\n",
    "plt.scatter(test_dataset[:, 0][test_dataset[:,2]==-1], test_dataset[:, 1][test_dataset[:,2]==-1])\n",
    "plt.scatter(test_dataset[:, 0][test_dataset[:,2]==1], test_dataset[:, 1][test_dataset[:,2]==1])"
   ]
  },
  {
   "cell_type": "markdown",
   "metadata": {},
   "source": [
    "### Perceptrón simple con problema XOR"
   ]
  },
  {
   "cell_type": "markdown",
   "metadata": {},
   "source": [
    "#### Entrenamiento"
   ]
  },
  {
   "cell_type": "code",
   "execution_count": 9,
   "metadata": {},
   "outputs": [
    {
     "name": "stdout",
     "output_type": "stream",
     "text": [
      "synaptic_weights:  [[-26.16      ]\n",
      " [  1.29144375]\n",
      " [-23.76005725]]\n",
      "Error porcentual:  99.85000000000001\n"
     ]
    },
    {
     "data": {
      "image/png": "[encoded data removed]",
      "text/plain": [
       "<Figure size 720x576 with 1 Axes>"
      ]
     },
     "metadata": {},
     "output_type": "display_data"
    }
   ],
   "source": [
    "#train\n",
    "synaptic_weights, n_error_list = perceptron(X_train ,y_train, lr = 0.005, epochs = 300, pretrained= False)\n",
    "plot_perceptron(X_train, synaptic_weights, y_train)"
   ]
  },
  {
   "cell_type": "markdown",
   "metadata": {},
   "source": [
    "#### Validación"
   ]
  },
  {
   "cell_type": "code",
   "execution_count": 10,
   "metadata": {},
   "outputs": [
    {
     "name": "stdout",
     "output_type": "stream",
     "text": [
      "synaptic_weights:  [[-26.16000002]\n",
      " [  1.29144372]\n",
      " [-23.76005724]]\n",
      "Error porcentual:  99.5\n"
     ]
    },
    {
     "data": {
      "image/png": "[encoded data removed]",
      "text/plain": [
       "<Figure size 720x576 with 1 Axes>"
      ]
     },
     "metadata": {},
     "output_type": "display_data"
    }
   ],
   "source": [
    "# test\n",
    "synaptic_weights, n_error_list = perceptron(X_test,y_test, lr = 0.000000000001, epochs = 1000, pretrained= True, pretrained_synaptic_weights = synaptic_weights)\n",
    "plot_perceptron(X_test, synaptic_weights, y_test)"
   ]
  },
  {
   "cell_type": "markdown",
   "metadata": {},
   "source": [
    "### Perceptrón Multicapa con problema XOR"
   ]
  },
  {
   "cell_type": "markdown",
   "metadata": {},
   "source": [
    "#### Se preparan los sets de datos con las dimensiones compatibles"
   ]
  },
  {
   "cell_type": "code",
   "execution_count": 14,
   "metadata": {},
   "outputs": [],
   "source": [
    "X_train = X_train.T\n",
    "X_test = X_test.T\n",
    "y_train = np.expand_dims(y_train, axis=0)\n",
    "y_test = np.expand_dims(y_test, axis=0)"
   ]
  },
  {
   "cell_type": "code",
   "execution_count": 15,
   "metadata": {},
   "outputs": [
    {
     "data": {
      "text/plain": [
       "(2, 2000)"
      ]
     },
     "execution_count": 15,
     "metadata": {},
     "output_type": "execute_result"
    }
   ],
   "source": [
    "X_train.shape"
   ]
  },
  {
   "cell_type": "code",
   "execution_count": 16,
   "metadata": {},
   "outputs": [
    {
     "data": {
      "text/plain": [
       "(2, 200)"
      ]
     },
     "execution_count": 16,
     "metadata": {},
     "output_type": "execute_result"
    }
   ],
   "source": [
    "X_test.shape"
   ]
  },
  {
   "cell_type": "code",
   "execution_count": 17,
   "metadata": {},
   "outputs": [
    {
     "data": {
      "text/plain": [
       "(1, 2000)"
      ]
     },
     "execution_count": 17,
     "metadata": {},
     "output_type": "execute_result"
    }
   ],
   "source": [
    "y_train.shape"
   ]
  },
  {
   "cell_type": "code",
   "execution_count": 18,
   "metadata": {},
   "outputs": [
    {
     "data": {
      "text/plain": [
       "(1, 200)"
      ]
     },
     "execution_count": 18,
     "metadata": {},
     "output_type": "execute_result"
    }
   ],
   "source": [
    "y_test.shape"
   ]
  },
  {
   "cell_type": "markdown",
   "metadata": {},
   "source": [
    "### Red multicapa con:\n",
    "- 200 capas ocultas\n",
    "- activación oculta RELU\n",
    "- activación de salida logistic\n",
    "- 1000 épocas de entrenamiento\n",
    "- Tasa de aprendizaje de 0.01"
   ]
  },
  {
   "cell_type": "markdown",
   "metadata": {},
   "source": [
    "#### Se inicializa el objeto de la red multicapa"
   ]
  },
  {
   "cell_type": "code",
   "execution_count": 12,
   "metadata": {},
   "outputs": [],
   "source": [
    "\n",
    "net = MLP((2,200,1),hidden_activation = relu, output_activation = logistic)"
   ]
  },
  {
   "cell_type": "markdown",
   "metadata": {},
   "source": [
    "#### Se realiza predicción sin entrenamiento"
   ]
  },
  {
   "cell_type": "code",
   "execution_count": 19,
   "metadata": {},
   "outputs": [
    {
     "name": "stdout",
     "output_type": "stream",
     "text": [
      "[[0.50345788 0.0178094  0.0387704  ... 0.01697959 0.01193837 0.50256968]]\n"
     ]
    },
    {
     "data": {
      "image/png": "[encoded data removed]",
      "text/plain": [
       "<Figure size 432x288 with 1 Axes>"
      ]
     },
     "metadata": {},
     "output_type": "display_data"
    }
   ],
   "source": [
    "\n",
    "print(net.predict(X_train))\n",
    "MLP_binary_classification_2d(X_train,y_train,net)"
   ]
  },
  {
   "cell_type": "markdown",
   "metadata": {},
   "source": [
    "#### Se realiza predicción después del entrenamiento"
   ]
  },
  {
   "cell_type": "code",
   "execution_count": 20,
   "metadata": {},
   "outputs": [
    {
     "name": "stderr",
     "output_type": "stream",
     "text": [
      "/tmp/ipykernel_17358/1495947191.py:9: RuntimeWarning: overflow encountered in exp\n",
      "  a = 1/(1 + np.exp(-z))\n"
     ]
    },
    {
     "data": {
      "image/png": "[encoded data removed]",
      "text/plain": [
       "<Figure size 432x288 with 1 Axes>"
      ]
     },
     "metadata": {},
     "output_type": "display_data"
    }
   ],
   "source": [
    "net.train(X_train, y_train,  epochs=1000, lr=0.01)\n",
    "y_pred = net.predict(X_test)\n",
    "MLP_binary_classification_2d(X_test,y_test,net)"
   ]
  },
  {
   "cell_type": "markdown",
   "metadata": {},
   "source": [
    "#### Calcular el error pocentual"
   ]
  },
  {
   "cell_type": "code",
   "execution_count": 21,
   "metadata": {},
   "outputs": [
    {
     "name": "stdout",
     "output_type": "stream",
     "text": [
      "Percent error:  0.0\n"
     ]
    }
   ],
   "source": [
    "y_pred = np.where(y_pred == 0., -1., y_pred)\n",
    "y_pred = np.where(y_pred > 0, 1., y_pred)\n",
    "np.sum(y_test == y_pred)\n",
    "aprox = (y_test == y_pred).sum()\n",
    "print(\"Percent error: \", (abs(aprox - y_test.shape[1])/ y_test.shape[1])*100)"
   ]
  },
  {
   "cell_type": "markdown",
   "metadata": {},
   "source": [
    "### Red multicapa con:\n",
    "- 50 capas ocultas\n",
    "- activación oculta Tanh\n",
    "- activación de salida linear\n",
    "- 200 épocas de entrenamiento\n",
    "- Tasa de aprendizaje de 0.0001"
   ]
  },
  {
   "cell_type": "markdown",
   "metadata": {},
   "source": [
    "#### Se inicializa el objeto de la red multicapa"
   ]
  },
  {
   "cell_type": "code",
   "execution_count": 28,
   "metadata": {},
   "outputs": [],
   "source": [
    "\n",
    "net = MLP((2,50,1),hidden_activation = tanh, output_activation = linear)"
   ]
  },
  {
   "cell_type": "markdown",
   "metadata": {},
   "source": [
    "#### Se realiza predicción sin entrenamiento"
   ]
  },
  {
   "cell_type": "code",
   "execution_count": 29,
   "metadata": {},
   "outputs": [
    {
     "name": "stdout",
     "output_type": "stream",
     "text": [
      "[[-0.55180917  0.20719695  2.038664   ...  0.15505182 -2.67551297\n",
      "  -0.48226133]]\n"
     ]
    },
    {
     "data": {
      "image/png": "[encoded data removed]",
      "text/plain": [
       "<Figure size 432x288 with 1 Axes>"
      ]
     },
     "metadata": {},
     "output_type": "display_data"
    }
   ],
   "source": [
    "\n",
    "print(net.predict(X_train))\n",
    "MLP_binary_classification_2d(X_train,y_train,net)"
   ]
  },
  {
   "cell_type": "markdown",
   "metadata": {},
   "source": [
    "#### Se realiza predicción después del entrenamiento"
   ]
  },
  {
   "cell_type": "code",
   "execution_count": 34,
   "metadata": {},
   "outputs": [
    {
     "data": {
      "image/png": "[encoded data removed]",
      "text/plain": [
       "<Figure size 432x288 with 1 Axes>"
      ]
     },
     "metadata": {},
     "output_type": "display_data"
    }
   ],
   "source": [
    "net.train(X_train, y_train,  epochs=200, lr=0.0001)\n",
    "y_pred = net.predict(X_test)\n",
    "MLP_binary_classification_2d(X_test,y_test,net)"
   ]
  },
  {
   "cell_type": "markdown",
   "metadata": {},
   "source": [
    "#### Calcular el error pocentual"
   ]
  },
  {
   "cell_type": "code",
   "execution_count": 33,
   "metadata": {},
   "outputs": [
    {
     "name": "stdout",
     "output_type": "stream",
     "text": [
      "Percent error:  56.00000000000001\n"
     ]
    }
   ],
   "source": [
    "y_pred = np.where(y_pred == 0., -1., y_pred)\n",
    "y_pred = np.where(y_pred > 0, 1., y_pred)\n",
    "np.sum(y_test == y_pred)\n",
    "aprox = (y_test == y_pred).sum()\n",
    "print(\"Percent error: \", (abs(aprox - y_test.shape[1])/ y_test.shape[1])*100)"
   ]
  },
  {
   "cell_type": "markdown",
   "metadata": {},
   "source": [
    "## Conclusiones\n",
    "\n",
    "En esta práctica aprendí las limitaciones de las redes de una sola capa, y la complejidad que puede llegar a configurarse en una red de múltiples capas. Para cada tipo de problema hay diferentes propuestas más adecuadas. En el caso de un set de datos que no es linealmente separable, hay distintas funciones de activación que pueden no solamente resolver el problema, sino evitar el sobre ajuste de los datos. Si el modelo tiene una configuración muy estricta, no va a poder clasificar de manera correcta datos con ruido, un margen de error más amplio, aunque disminuya la precisión. Es importante considerar si se pueden presentar anormalidades, y balancear la complejidad del modelo para reducir el costo computacional."
   ]
  },
  {
   "cell_type": "markdown",
   "metadata": {},
   "source": []
  }
 ],
 "metadata": {
  "interpreter": {
   "hash": "a260e626cb77863c67c5468b270d37366524e20894372c632ae8c99a6a196644"
  },
  "kernelspec": {
   "display_name": "Python 3.9.7 ('base')",
   "language": "python",
   "name": "python3"
  },
  "language_info": {
   "codemirror_mode": {
    "name": "ipython",
    "version": 3
   },
   "file_extension": ".py",
   "mimetype": "text/x-python",
   "name": "python",
   "nbconvert_exporter": "python",
   "pygments_lexer": "ipython3",
   "version": "3.9.7"
  },
  "orig_nbformat": 4
 },
 "nbformat": 4,
 "nbformat_minor": 2
}
