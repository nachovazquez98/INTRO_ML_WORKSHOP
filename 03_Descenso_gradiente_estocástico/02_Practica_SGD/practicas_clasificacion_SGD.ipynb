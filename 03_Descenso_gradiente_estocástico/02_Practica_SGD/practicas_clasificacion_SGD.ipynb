{
 "cells": [
  {
   "cell_type": "code",
   "execution_count": 179,
   "metadata": {},
   "outputs": [],
   "source": [
    "\n",
    "import numpy as np\n",
    "from numpy.random import seed\n",
    "import pandas as pd\n",
    "\n",
    "# Descenso de gradiente estocástico\n",
    "class SGD(object):\n",
    "   def __init__(self, rate = 0.01, niter = 10, shuffle=True):\n",
    "      self.rate = rate\n",
    "      self.niter = niter\n",
    "      self.weight_initialized = False\n",
    "\n",
    "      # Si es verdadero, baraja los datos de entrenamiento cada época\n",
    "      self.shuffle = shuffle\n",
    "\n",
    "   def sigmoid(self, x):\n",
    "      return 1.0/(1.0 + np.exp(-x))\n",
    "\n",
    "   def fit(self, X, y):\n",
    "      \"\"\"\n",
    "      Ajustar datos de entrenamiento\n",
    "       X : Vectores de entrenamiento, X.shape : [#muestras, #características]\n",
    "       y : valores objetivo, forma y : [#muestras]\n",
    "      \"\"\"\n",
    "\n",
    "      # inicializar pesos sinapticos\n",
    "      self.initialize_weights(X.shape[1])\n",
    "\n",
    "      # inicializar función de costo\n",
    "      self.cost = []\n",
    "\n",
    "      for i in range(self.niter):\n",
    "         if self.shuffle:\n",
    "            X, y = self.shuffle_set(X, y)\n",
    "         cost = []\n",
    "         for xi, target in zip(X, y):\n",
    "            cost.append(self.SGD_method(xi, target))\n",
    "         avg_cost = sum(cost)/len(y)\n",
    "         self.cost.append(avg_cost)\n",
    "      return self\n",
    "   \n",
    "   def partial_fit(self, X, y):\n",
    "      \"\"\"Fit training data without reinitializing the weights\"\"\"\n",
    "      if not self.weight_initialized:\n",
    "         self.initialize_weights(X.shape[1])\n",
    "      if y.ravel().shape[0] > 1:\n",
    "         for xi, target in zip(X, y):\n",
    "            self.SGD_method(xi, target)\n",
    "      else:\n",
    "         self.up\n",
    "      return self\n",
    "\n",
    "   def shuffle_set(self, X, y):\n",
    "      \"\"\"Mezclar datos de entrenamiento\"\"\"\n",
    "      r = np.random.permutation(len(y))\n",
    "      return X[r], y[r]\n",
    "\n",
    "   def initialize_weights(self, m):\n",
    "      \"\"\"Inicializar pesos a cero\"\"\"\n",
    "      self.weight = np.zeros(1 + m)\n",
    "      self.weight_initialized = True\n",
    "\n",
    "   def SGD_method(self, xi, target):\n",
    "      \"\"\"Aplicar la regla de aprendizaje SGD para actualizar sus pesos sinapticos\"\"\"\n",
    "      output = self.net_input(xi)\n",
    "      error = (target - output)\n",
    "      self.weight[1:] += self.rate * xi.dot(error)\n",
    "      self.weight[0] += self.rate * error\n",
    "      cost = 0.5 * error**2\n",
    "      return cost\n",
    "\n",
    "   def net_input(self, X):\n",
    "      \"\"\"Calcular entreda  de la red\"\"\"\n",
    "      return np.dot(X, self.weight[1:]) + self.weight[0]\n",
    "\n",
    "   def activation(self, X):\n",
    "      \"\"\"Calcular activación lineal\"\"\"\n",
    "      return self.net_input(X)\n",
    "\n",
    "   def predict(self, X):\n",
    "      Y_pred = []\n",
    "      for x in X:\n",
    "         y_pred = self.sigmoid(self.activation(x))\n",
    "         Y_pred.append(y_pred)\n",
    "      return np.array(Y_pred)\n",
    "\n"
   ]
  },
  {
   "cell_type": "code",
   "execution_count": 180,
   "metadata": {},
   "outputs": [],
   "source": [
    "X_train = np.array([\n",
    "    [0,0,1],\n",
    "    [0,1,1],\n",
    "    [1,0,1],\n",
    "    [1,1,1]\n",
    "    ])"
   ]
  },
  {
   "cell_type": "code",
   "execution_count": 184,
   "metadata": {},
   "outputs": [
    {
     "data": {
      "text/plain": [
       "(4, 3)"
      ]
     },
     "execution_count": 184,
     "metadata": {},
     "output_type": "execute_result"
    }
   ],
   "source": [
    "X_train.shape"
   ]
  },
  {
   "cell_type": "code",
   "execution_count": 181,
   "metadata": {},
   "outputs": [],
   "source": [
    "y_train = np.array([1,0,1,1])"
   ]
  },
  {
   "cell_type": "code",
   "execution_count": 185,
   "metadata": {},
   "outputs": [
    {
     "data": {
      "text/plain": [
       "(4,)"
      ]
     },
     "execution_count": 185,
     "metadata": {},
     "output_type": "execute_result"
    }
   ],
   "source": [
    "y_train.shape"
   ]
  },
  {
   "cell_type": "code",
   "execution_count": 182,
   "metadata": {},
   "outputs": [],
   "source": [
    "X_test = np.array([\n",
    "    [0,0,1],\n",
    "    [0,1,1],\n",
    "    [0,1,0],\n",
    "    [1,1,1]\n",
    "    ])"
   ]
  },
  {
   "cell_type": "code",
   "execution_count": 183,
   "metadata": {},
   "outputs": [],
   "source": [
    "y_test = np.array([0,0,1,1])"
   ]
  },
  {
   "cell_type": "code",
   "execution_count": 190,
   "metadata": {},
   "outputs": [
    {
     "data": {
      "text/plain": [
       "array([0.67299632, 0.55668955, 0.7779246 , 0.68126289])"
      ]
     },
     "execution_count": 190,
     "metadata": {},
     "output_type": "execute_result"
    }
   ],
   "source": [
    "sgd =  SGD(niter=1000, rate=0.1)\n",
    "sgd.fit(X_train, y_train)\n",
    "sgd.predict(X_train)"
   ]
  },
  {
   "cell_type": "code",
   "execution_count": 191,
   "metadata": {},
   "outputs": [
    {
     "data": {
      "text/plain": [
       "<__main__.SGD at 0x7f2b33b73048>"
      ]
     },
     "execution_count": 191,
     "metadata": {},
     "output_type": "execute_result"
    }
   ],
   "source": [
    "sgd.partial_fit(X_test, y_test)"
   ]
  },
  {
   "cell_type": "code",
   "execution_count": 192,
   "metadata": {},
   "outputs": [
    {
     "data": {
      "text/plain": [
       "array([0.67172899, 0.58719577, 0.51386572, 0.71110724])"
      ]
     },
     "execution_count": 192,
     "metadata": {},
     "output_type": "execute_result"
    }
   ],
   "source": [
    "sgd.predict(X_test)"
   ]
  },
  {
   "cell_type": "code",
   "execution_count": null,
   "metadata": {},
   "outputs": [],
   "source": []
  }
 ],
 "metadata": {
  "kernelspec": {
   "display_name": "Python 3.6.9 64-bit",
   "language": "python",
   "name": "python3"
  },
  "language_info": {
   "codemirror_mode": {
    "name": "ipython",
    "version": 3
   },
   "file_extension": ".py",
   "mimetype": "text/x-python",
   "name": "python",
   "nbconvert_exporter": "python",
   "pygments_lexer": "ipython3",
   "version": "3.6.9"
  },
  "orig_nbformat": 4,
  "vscode": {
   "interpreter": {
    "hash": "31f2aee4e71d21fbe5cf8b01ff0e069b9275f58929596ceb00d14d90e3e16cd6"
   }
  }
 },
 "nbformat": 4,
 "nbformat_minor": 2
}
