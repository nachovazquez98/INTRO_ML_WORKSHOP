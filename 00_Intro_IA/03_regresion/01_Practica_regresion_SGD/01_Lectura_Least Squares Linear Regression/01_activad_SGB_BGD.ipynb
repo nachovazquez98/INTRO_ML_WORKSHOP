{
 "cells": [
  {
   "cell_type": "markdown",
   "metadata": {},
   "source": [
    "# Algortimo de regresión Adaline con SGD y BGD"
   ]
  },
  {
   "cell_type": "markdown",
   "metadata": {},
   "source": [
    "- gradient descent stochastic (SGD)\n",
    "Modifica los pesos sinapticos con una muestra aleatoria de la distribución. Entrenamiento en línea. Tiene ruido en su ruta en el mínimo local por la muestra aleatoria del dataset. \n",
    "\n",
    "- Batch gd (bgd)\n",
    "Entrenamiento por lotes. Como se toma con cada una de las actualizaciones, la linea es más suave que el gradiente descendiente, se hace la corrección de los pesos por cada uno de los datos del problema.\n",
    "\n",
    "- Metodo directo\n",
    "El bias se agrega al arreglo de pesos sinápticos, el vector homogéneo de la entrada, y luego se genera la matriz."
   ]
  },
  {
   "cell_type": "code",
   "execution_count": 2,
   "metadata": {},
   "outputs": [],
   "source": [
    "import numpy as np\n",
    "import pandas as pd\n",
    "import matplotlib.pyplot as plt\n",
    "from math import *"
   ]
  },
  {
   "cell_type": "code",
   "execution_count": 3,
   "metadata": {},
   "outputs": [],
   "source": [
    "def hypothesis(theta, X):\n",
    "# input:\n",
    "#     - theta_0 y theta_1\n",
    "#     - conjunto de características (X) \n",
    "# output:\n",
    "#     - valor de hipótesis de la variable objetivo (h)\n",
    "    h = np.ones((X.shape[0],1))\n",
    "    for i in range(0,X.shape[0]):\n",
    "        x = np.concatenate((np.ones(1), np.array([X[i]])), axis = 0)\n",
    "        h[i] = float(np.matmul(theta, x))\n",
    "    h = h.reshape(X.shape[0])\n",
    "    return h\n",
    "# Stochastic Gradient Descent\n",
    "def SGD(theta, learning_rate, epochs, h, X, y):\n",
    "# input:\n",
    "#     - theta_0 y theta_1\n",
    "#     - tasa de aprendizaje\n",
    "#     - numero de iteraciones\n",
    "#     - lista de valores de hipótesis de todas las muestras (h)\n",
    "#     - conjunto de características (X) \n",
    "#     - conjunto de variables objetivo (y)\n",
    "# output:\n",
    "#     - theta optimizado (theta_0 y theta_1)\n",
    "    for i in range(0,epochs):\n",
    "        theta[0] = theta[0] - (learning_rate) * (h - y)\n",
    "        theta[1] = theta[1] - (learning_rate) * ((h - y) * X)\n",
    "        h = theta[1]*X + theta[0] \n",
    "    return theta\n",
    "def sgd_linear_regression(X, y, learning_rate, epochs):\n",
    "# input:\n",
    "#     - conjunto de características (X) \n",
    "#     - conjunto de variables objetivo (y)\n",
    "#     - tasa de aprendizaje\n",
    "#     - numero de iteraciones\n",
    "# output:\n",
    "#     - salida theta optimizada final\n",
    "    theta = np.zeros(2)\n",
    "    h = hypothesis(theta, X)    \n",
    "    for i in range(0, X.shape[0]):\n",
    "        theta = SGD(theta,learning_rate,epochs,h[i],X[i],y[i])\n",
    "    theta = theta.reshape(1, 2)\n",
    "    return theta\n",
    "# Batch Gradient Descent \n",
    "def BGD(theta, learning_rate, epochs, h, X, y):\n",
    "# input:\n",
    "#     - theta_0 y theta_1\n",
    "#     - tasa de aprendizaje\n",
    "#     - numero de iteraciones\n",
    "#     - lista de valores de hipótesis de todas las muestras (h)\n",
    "#     - conjunto de características (X) \n",
    "#     - conjunto de variables objetivo (y)\n",
    "# output:\n",
    "#     - theta optimizado (theta_0 y theta_1)\n",
    "#     - historial de theta_0\n",
    "#     - historia de theta_1\n",
    "#     - funcion de costo\n",
    "    cost = np.ones(epochs)\n",
    "    theta_0 = np.ones(epochs)\n",
    "    theta_1 = np.ones(epochs)\n",
    "    for i in range(0,epochs):\n",
    "        theta[0] = theta[0] - (learning_rate/X.shape[0]) * sum(h - y)\n",
    "        theta[1] = theta[1] - (learning_rate/X.shape[0]) * sum((h - y) * X)\n",
    "        h = hypothesis(theta, X)\n",
    "        cost[i] = (1/X.shape[0]) * 0.5 * sum(np.square(h - y))\n",
    "        theta_0[i] = theta[0]\n",
    "        theta_1[i] = theta[1]\n",
    "    theta = theta.reshape(1,2)\n",
    "    return theta, theta_0, theta_1, cost\n",
    "# toma el conjunto de características (X), el conjunto de variables de destino (y), \n",
    "# la tasa de aprendizaje y el número de iteraciones (epochs) como entrada y \n",
    "# genera el theta optimizado final    \n",
    "def bgd_linear_regression(X, y, learning_rate, epochs):\n",
    "# input:\n",
    "#     - conjunto de características (X) \n",
    "#     - conjunto de variables objetivo (y)\n",
    "#     - tasa de aprendizaje\n",
    "#     - numero de iteraciones\n",
    "# output:\n",
    "#     - theta optimizado (theta_0 y theta_1)\n",
    "#     - historial de theta_0\n",
    "#     - historia de theta_1\n",
    "#     - funcion de costo\n",
    "    theta = np.zeros(2)\n",
    "    h = hypothesis(theta, X)    \n",
    "    theta,theta_0,theta_1,cost= BGD(theta,learning_rate,epochs,h,X,y)\n",
    "    return theta, theta_0, theta_1, cost\n",
    "def mse_prediction(y_train, training_predictions):\n",
    "    se = 0 # Square Error\n",
    "    for i in range(0,y_train.shape[0]):\n",
    "        se = se + pow((training_predictions[i] - y_train[i]), 2)\n",
    "    MSE = se/y_train.shape[0] # Mean Square Error\n",
    "    return MSE\n",
    "def shuffle_split_data(X, y):\n",
    "    arr_rand = np.random.rand(X.shape[0])\n",
    "    split = arr_rand < np.percentile(arr_rand, 70)\n",
    "\n",
    "    X_train = X[split]\n",
    "    y_train = y[split]\n",
    "    X_test =  X[~split]\n",
    "    y_test = y[~split]\n",
    "    return X_train, y_train, X_test, y_test"
   ]
  },
  {
   "cell_type": "markdown",
   "metadata": {},
   "source": [
    "------------------------------"
   ]
  },
  {
   "cell_type": "markdown",
   "metadata": {},
   "source": [
    "## data exploration"
   ]
  },
  {
   "cell_type": "code",
   "execution_count": 4,
   "metadata": {},
   "outputs": [],
   "source": [
    "data = np.genfromtxt('DataSet1.csv', delimiter=',', skip_header=True)"
   ]
  },
  {
   "cell_type": "code",
   "execution_count": 5,
   "metadata": {},
   "outputs": [
    {
     "data": {
      "text/plain": [
       "array([[0.82202  , 0.1675   ],\n",
       "       [0.95587  , 0.0091221],\n",
       "       [0.87913  , 0.15943  ],\n",
       "       [0.38489  , 0.55851  ],\n",
       "       [0.94356  , 0.040785 ]])"
      ]
     },
     "execution_count": 5,
     "metadata": {},
     "output_type": "execute_result"
    }
   ],
   "source": [
    "data[:5,:]"
   ]
  },
  {
   "cell_type": "code",
   "execution_count": 6,
   "metadata": {},
   "outputs": [],
   "source": [
    "X = data[:,0]\n",
    "y = data[:,1]\n",
    "X_train, y_train, X_test, y_test = shuffle_split_data(X, y)"
   ]
  },
  {
   "cell_type": "code",
   "execution_count": 7,
   "metadata": {},
   "outputs": [
    {
     "data": {
      "text/plain": [
       "<matplotlib.collections.PathCollection at 0x7f7aacfc9460>"
      ]
     },
     "execution_count": 7,
     "metadata": {},
     "output_type": "execute_result"
    },
    {
     "data": {
      "image/png": "[encoded data removed]",
      "text/plain": [
       "<Figure size 432x288 with 1 Axes>"
      ]
     },
     "metadata": {
      "needs_background": "light"
     },
     "output_type": "display_data"
    }
   ],
   "source": [
    "import matplotlib.pyplot as plt\n",
    "plt.scatter(X, y)"
   ]
  },
  {
   "cell_type": "markdown",
   "metadata": {},
   "source": [
    "## sgd linear regression"
   ]
  },
  {
   "cell_type": "code",
   "execution_count": 8,
   "metadata": {},
   "outputs": [],
   "source": [
    "learning_rate = 0.0001\n",
    "num_iters = 100000\n",
    "theta = sgd_linear_regression(X_train, y_train, learning_rate, num_iters)"
   ]
  },
  {
   "cell_type": "code",
   "execution_count": 9,
   "metadata": {},
   "outputs": [
    {
     "data": {
      "image/png": "[encoded data removed]",
      "text/plain": [
       "<Figure size 432x288 with 1 Axes>"
      ]
     },
     "metadata": {
      "needs_background": "light"
     },
     "output_type": "display_data"
    }
   ],
   "source": [
    "training_predictions = hypothesis(theta, X_train)\n",
    "scatter = plt.scatter(X_train, y_train, label=\"training data\")\n",
    "regression_line = plt.plot(X_train, training_predictions ,label=\"linear regression\")"
   ]
  },
  {
   "cell_type": "code",
   "execution_count": 11,
   "metadata": {},
   "outputs": [
    {
     "data": {
      "text/plain": [
       "array([0.22018823, 0.09507322, 0.1668052 , 0.62879132, 0.70946877,\n",
       "       0.10937475, 0.43139284, 0.96785627, 0.72484525, 0.97659703,\n",
       "       0.17622739, 0.59148583, 0.91808228, 0.7929224 , 0.17312405,\n",
       "       0.67592094, 0.63740028, 0.43544961, 0.49288006, 0.68665176,\n",
       "       0.18567761, 0.75193403, 0.10948692, 0.3506593 , 0.74293248,\n",
       "       0.98042507, 0.1030746 , 0.49398306, 0.2854705 , 0.06393702,\n",
       "       0.30777341, 0.18314447, 0.27721674, 0.86690711, 0.69361557,\n",
       "       0.08563234, 0.30645543, 0.29904293, 0.83944443, 0.20582127,\n",
       "       0.69587765, 0.35940847, 0.43509441, 0.87811465, 0.88703207,\n",
       "       0.79266067, 0.57553916, 0.49345025, 0.05521589, 0.31770035,\n",
       "       0.39505947, 0.08407133, 0.74782117, 0.1399688 , 0.8392014 ,\n",
       "       0.90622696, 0.70533722, 0.67202307, 0.73437026, 0.316803  ,\n",
       "       0.09919543, 0.92290834, 0.73857659, 0.43419706, 0.2553999 ,\n",
       "       0.47161472, 0.97242809, 0.36382045, 0.19115519, 0.94436905])"
      ]
     },
     "execution_count": 11,
     "metadata": {},
     "output_type": "execute_result"
    }
   ],
   "source": [
    "training_predictions"
   ]
  },
  {
   "cell_type": "code",
   "execution_count": 10,
   "metadata": {},
   "outputs": [
    {
     "name": "stdout",
     "output_type": "stream",
     "text": [
      "0.0022284801954406182\n"
     ]
    }
   ],
   "source": [
    "print(mse_prediction(y_train, training_predictions))"
   ]
  },
  {
   "cell_type": "markdown",
   "metadata": {},
   "source": [
    "-------------------------------------"
   ]
  },
  {
   "cell_type": "markdown",
   "metadata": {},
   "source": [
    "## bgd_linear_regression"
   ]
  },
  {
   "cell_type": "code",
   "execution_count": 193,
   "metadata": {},
   "outputs": [],
   "source": [
    "learning_rate = 0.1\n",
    "num_iters = 500\n",
    "theta,theta_0,theta_1,cost=bgd_linear_regression(X_train,y_train,learning_rate, num_iters)"
   ]
  },
  {
   "cell_type": "code",
   "execution_count": 194,
   "metadata": {},
   "outputs": [
    {
     "data": {
      "image/png": "[encoded data removed]",
      "text/plain": [
       "<Figure size 432x288 with 1 Axes>"
      ]
     },
     "metadata": {
      "needs_background": "light"
     },
     "output_type": "display_data"
    }
   ],
   "source": [
    "training_predictions = hypothesis(theta, X_train)\n",
    "scatter = plt.scatter(X_train, y_train, label=\"training data\")\n",
    "regression_line = plt.plot(X_train, training_predictions, label=\"linear regression\")"
   ]
  },
  {
   "cell_type": "code",
   "execution_count": 195,
   "metadata": {},
   "outputs": [
    {
     "data": {
      "text/plain": [
       "Text(0, 0.5, 'Cost')"
      ]
     },
     "execution_count": 195,
     "metadata": {},
     "output_type": "execute_result"
    },
    {
     "data": {
      "image/png": "[encoded data removed]",
      "text/plain": [
       "<Figure size 432x288 with 1 Axes>"
      ]
     },
     "metadata": {
      "needs_background": "light"
     },
     "output_type": "display_data"
    }
   ],
   "source": [
    "cost = list(cost)\n",
    "n_iterations = [x for x in range(1,num_iters + 1)]\n",
    "plt.plot(n_iterations, cost)\n",
    "plt.xlabel('No. of iterations')\n",
    "plt.ylabel('Cost')"
   ]
  },
  {
   "cell_type": "code",
   "execution_count": 196,
   "metadata": {},
   "outputs": [
    {
     "name": "stdout",
     "output_type": "stream",
     "text": [
      "0.001085905087268426\n"
     ]
    }
   ],
   "source": [
    "print(mse_prediction(y_train, training_predictions))"
   ]
  },
  {
   "cell_type": "code",
   "execution_count": null,
   "metadata": {},
   "outputs": [],
   "source": []
  }
 ],
 "metadata": {
  "interpreter": {
   "hash": "a260e626cb77863c67c5468b270d37366524e20894372c632ae8c99a6a196644"
  },
  "kernelspec": {
   "display_name": "Python 3.9.7 ('base')",
   "language": "python",
   "name": "python3"
  },
  "language_info": {
   "codemirror_mode": {
    "name": "ipython",
    "version": 3
   },
   "file_extension": ".py",
   "mimetype": "text/x-python",
   "name": "python",
   "nbconvert_exporter": "python",
   "pygments_lexer": "ipython3",
   "version": "3.9.7"
  },
  "orig_nbformat": 4
 },
 "nbformat": 4,
 "nbformat_minor": 2
}
